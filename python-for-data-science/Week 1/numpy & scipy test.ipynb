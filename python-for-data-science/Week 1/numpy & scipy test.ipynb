{
 "metadata": {
  "language_info": {
   "codemirror_mode": {
    "name": "ipython",
    "version": 3
   },
   "file_extension": ".py",
   "mimetype": "text/x-python",
   "name": "python",
   "nbconvert_exporter": "python",
   "pygments_lexer": "ipython3",
   "version": "3.8.5-final"
  },
  "orig_nbformat": 2,
  "kernelspec": {
   "name": "python_defaultSpec_1600528162030",
   "display_name": "Python 3.8.5 64-bit ('myenv': venv)"
  }
 },
 "nbformat": 4,
 "nbformat_minor": 2,
 "cells": [
  {
   "cell_type": "code",
   "execution_count": 1,
   "metadata": {},
   "outputs": [],
   "source": [
    "import numpy as np"
   ]
  },
  {
   "cell_type": "code",
   "execution_count": 3,
   "metadata": {},
   "outputs": [
    {
     "output_type": "execute_result",
     "data": {
      "text/plain": "array([1, 3, 4, 7])"
     },
     "metadata": {},
     "execution_count": 3
    }
   ],
   "source": [
    "np.unique([[3,3,3], [1,3,4], [7, 1, 3]])"
   ]
  },
  {
   "cell_type": "code",
   "execution_count": 5,
   "metadata": {},
   "outputs": [],
   "source": [
    " Z = np.array([92, 13, 44, 555, 1, -3])"
   ]
  },
  {
   "cell_type": "code",
   "execution_count": 19,
   "metadata": {},
   "outputs": [
    {
     "output_type": "execute_result",
     "data": {
      "text/plain": "13"
     },
     "metadata": {},
     "execution_count": 19
    }
   ],
   "source": [
    "np.flip(Z)[4]"
   ]
  },
  {
   "cell_type": "code",
   "execution_count": 7,
   "metadata": {},
   "outputs": [],
   "source": [
    "a = np.ones(5)\n",
    "b = np.full(5, 2)"
   ]
  },
  {
   "cell_type": "code",
   "execution_count": 8,
   "metadata": {},
   "outputs": [
    {
     "output_type": "execute_result",
     "data": {
      "text/plain": "10.0"
     },
     "metadata": {},
     "execution_count": 8
    }
   ],
   "source": [
    "np.dot(a, b)"
   ]
  },
  {
   "cell_type": "code",
   "execution_count": 22,
   "metadata": {},
   "outputs": [],
   "source": [
    "a = np.array([[0, 9, 19, 13], [1, 20, 5, 13], [12, 11, 3, 4]])\n",
    "b = np.array([[2, 0, 0, 0], [1, 2, 2, 0], [2, 1, 1, 0], [0, 0, 1, 1]])"
   ]
  },
  {
   "cell_type": "code",
   "execution_count": 24,
   "metadata": {},
   "outputs": [
    {
     "output_type": "execute_result",
     "data": {
      "text/plain": "array([[47, 37, 50, 13],\n       [32, 45, 58, 13],\n       [41, 25, 29,  4]])"
     },
     "metadata": {},
     "execution_count": 24
    }
   ],
   "source": [
    "c = np.dot(a, b)\n",
    "c"
   ]
  },
  {
   "cell_type": "code",
   "execution_count": 11,
   "metadata": {},
   "outputs": [
    {
     "output_type": "execute_result",
     "data": {
      "text/plain": "4.875"
     },
     "metadata": {},
     "execution_count": 11
    }
   ],
   "source": [
    "b = np.array([[-1, 33, 4, 1], [0, 1, 1, 0]])\n",
    "np.mean(b)"
   ]
  },
  {
   "cell_type": "code",
   "execution_count": 14,
   "metadata": {},
   "outputs": [],
   "source": [
    "from scipy import linalg"
   ]
  },
  {
   "cell_type": "code",
   "execution_count": 15,
   "metadata": {},
   "outputs": [
    {
     "output_type": "execute_result",
     "data": {
      "text/plain": "0.0"
     },
     "metadata": {},
     "execution_count": 15
    }
   ],
   "source": [
    "X = np.array([[6, 0, 3], [0, -1, 2], [12, 3, 0]])\n",
    "linalg.det(X)"
   ]
  },
  {
   "cell_type": "code",
   "execution_count": 17,
   "metadata": {},
   "outputs": [
    {
     "output_type": "execute_result",
     "data": {
      "text/plain": "array([-1.+0.j,  1.+0.j,  3.+0.j,  3.+0.j])"
     },
     "metadata": {},
     "execution_count": 17
    }
   ],
   "source": [
    "X = np.array([[1, -1, -1, 0], [-1, 2, -1, -1], [-1, -1, 2, -1], [0, -1, -1, 1]])\n",
    "linalg.eig(X)[0]"
   ]
  },
  {
   "cell_type": "code",
   "execution_count": 18,
   "metadata": {},
   "outputs": [
    {
     "output_type": "execute_result",
     "data": {
      "text/plain": "2.700000000000001"
     },
     "metadata": {},
     "execution_count": 18
    }
   ],
   "source": [
    "X = np.array([[2, 4, 0, 4, 1], [2, 4, 1, 1, 0], [1, 1, 1, 2, 2], [0, 1, 3, 2, 4], [2, 2, 2, 0, 2]])\n",
    "linalg.inv(X).trace()"
   ]
  },
  {
   "cell_type": "code",
   "execution_count": 21,
   "metadata": {},
   "outputs": [
    {
     "output_type": "execute_result",
     "data": {
      "text/plain": "array([[47, 37, 50, 13],\n       [32, 45, 58, 13],\n       [41, 25, 29,  4]])"
     },
     "metadata": {},
     "execution_count": 21
    }
   ],
   "source": [
    "\n",
    "foo = np.array([[0,9,19,13],[1,20,5,13],[12,11,3,4]])\n",
    "bar = np.array([[2,0,0,0],[1,2,2,0],[2,1,1,0],[0,0,1,1]])\n",
    "foobar = np.dot(foo,bar)\n",
    "foobar"
   ]
  },
  {
   "cell_type": "code",
   "execution_count": null,
   "metadata": {},
   "outputs": [],
   "source": []
  }
 ]
}