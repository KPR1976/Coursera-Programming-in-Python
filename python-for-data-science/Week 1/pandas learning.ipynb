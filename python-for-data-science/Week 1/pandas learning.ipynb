{
 "metadata": {
  "language_info": {
   "codemirror_mode": {
    "name": "ipython",
    "version": 3
   },
   "file_extension": ".py",
   "mimetype": "text/x-python",
   "name": "python",
   "nbconvert_exporter": "python",
   "pygments_lexer": "ipython3",
   "version": "3.8.5-final"
  },
  "orig_nbformat": 2,
  "kernelspec": {
   "name": "python_defaultSpec_1600593466723",
   "display_name": "Python 3.8.5 64-bit ('myenv': venv)"
  }
 },
 "nbformat": 4,
 "nbformat_minor": 2,
 "cells": [
  {
   "cell_type": "code",
   "execution_count": 41,
   "metadata": {},
   "outputs": [],
   "source": [
    "import pandas as pd\n",
    "import numpy as np"
   ]
  },
  {
   "cell_type": "code",
   "execution_count": 5,
   "metadata": {},
   "outputs": [],
   "source": [
    "s = pd.Series([1, 2, 3, 4])"
   ]
  },
  {
   "cell_type": "code",
   "execution_count": 6,
   "metadata": {},
   "outputs": [
    {
     "output_type": "execute_result",
     "data": {
      "text/plain": "0    1\n1    2\n2    3\n3    4\ndtype: int64"
     },
     "metadata": {},
     "execution_count": 6
    }
   ],
   "source": [
    "s"
   ]
  },
  {
   "cell_type": "code",
   "execution_count": 10,
   "metadata": {},
   "outputs": [],
   "source": [
    "d = {'Moscow': 1000, 'London': 300, 'New York': 150, 'Barcelona': None}"
   ]
  },
  {
   "cell_type": "code",
   "execution_count": 11,
   "metadata": {},
   "outputs": [
    {
     "output_type": "execute_result",
     "data": {
      "text/plain": "Moscow       1000.0\nLondon        300.0\nNew York      150.0\nBarcelona       NaN\ndtype: float64"
     },
     "metadata": {},
     "execution_count": 11
    }
   ],
   "source": [
    "cities = pd.Series(d)\n",
    "cities"
   ]
  },
  {
   "cell_type": "code",
   "execution_count": 12,
   "metadata": {},
   "outputs": [
    {
     "output_type": "execute_result",
     "data": {
      "text/plain": "1000.0"
     },
     "metadata": {},
     "execution_count": 12
    }
   ],
   "source": [
    "cities['Moscow']"
   ]
  },
  {
   "cell_type": "code",
   "execution_count": 13,
   "metadata": {},
   "outputs": [
    {
     "output_type": "execute_result",
     "data": {
      "text/plain": "Moscow      1000.0\nNew York     150.0\ndtype: float64"
     },
     "metadata": {},
     "execution_count": 13
    }
   ],
   "source": [
    "cities[['Moscow', 'New York']]"
   ]
  },
  {
   "cell_type": "code",
   "execution_count": 14,
   "metadata": {},
   "outputs": [
    {
     "output_type": "execute_result",
     "data": {
      "text/plain": "Moscow       False\nLondon        True\nNew York      True\nBarcelona    False\ndtype: bool"
     },
     "metadata": {},
     "execution_count": 14
    }
   ],
   "source": [
    "cities < 1000"
   ]
  },
  {
   "cell_type": "code",
   "execution_count": 15,
   "metadata": {},
   "outputs": [
    {
     "output_type": "execute_result",
     "data": {
      "text/plain": "London      300.0\nNew York    150.0\ndtype: float64"
     },
     "metadata": {},
     "execution_count": 15
    }
   ],
   "source": [
    "cities[cities < 1000]"
   ]
  },
  {
   "cell_type": "code",
   "execution_count": 16,
   "metadata": {},
   "outputs": [
    {
     "output_type": "execute_result",
     "data": {
      "text/plain": "Moscow       1250.0\nLondon        300.0\nNew York      150.0\nBarcelona       NaN\ndtype: float64"
     },
     "metadata": {},
     "execution_count": 16
    }
   ],
   "source": [
    "cities['Moscow'] = 1250\n",
    "cities"
   ]
  },
  {
   "cell_type": "code",
   "execution_count": 17,
   "metadata": {},
   "outputs": [
    {
     "output_type": "execute_result",
     "data": {
      "text/plain": "Moscow       1250.0\nLondon        250.0\nNew York      250.0\nBarcelona       NaN\ndtype: float64"
     },
     "metadata": {},
     "execution_count": 17
    }
   ],
   "source": [
    "cities[cities < 1000] = 250\n",
    "cities"
   ]
  },
  {
   "cell_type": "code",
   "execution_count": 21,
   "metadata": {},
   "outputs": [
    {
     "output_type": "execute_result",
     "data": {
      "text/plain": "Moscow       2500.0\nLondon        500.0\nNew York      500.0\nBarcelona       NaN\ndtype: float64"
     },
     "metadata": {},
     "execution_count": 21
    }
   ],
   "source": [
    "cities*2"
   ]
  },
  {
   "cell_type": "code",
   "execution_count": 23,
   "metadata": {},
   "outputs": [
    {
     "output_type": "execute_result",
     "data": {
      "text/plain": "Barcelona   NaN\ndtype: float64"
     },
     "metadata": {},
     "execution_count": 23
    }
   ],
   "source": [
    "cities[cities.isnull()]"
   ]
  },
  {
   "cell_type": "code",
   "execution_count": 25,
   "metadata": {},
   "outputs": [
    {
     "output_type": "execute_result",
     "data": {
      "text/plain": "Moscow      1250.0\nLondon       250.0\nNew York     250.0\ndtype: float64"
     },
     "metadata": {},
     "execution_count": 25
    }
   ],
   "source": [
    "cities[cities.notnull()]"
   ]
  },
  {
   "cell_type": "code",
   "execution_count": 50,
   "metadata": {},
   "outputs": [],
   "source": [
    "df = pd.read_csv('citibike.csv')"
   ]
  },
  {
   "cell_type": "code",
   "execution_count": 51,
   "metadata": {},
   "outputs": [
    {
     "output_type": "execute_result",
     "data": {
      "text/plain": "   Unnamed: 0  Unnamed: 0.1  tripduration                 starttime  \\\n0     1477479       1477479           364  2020-08-21 11:38:58.9800   \n1      507762        507762           810  2020-08-08 11:18:09.5230   \n2      163825        163825           777  2020-08-03 07:30:34.7530   \n3     1553295       1553295          1780  2020-08-22 09:47:37.5210   \n4       14003         14003          1618  2020-08-01 10:19:34.6720   \n\n                   stoptime  start station id           start station name  \\\n0  2020-08-21 11:45:03.3120              3256  Pier 40 - Hudson River Park   \n1  2020-08-08 11:31:39.8530               423              W 54 St & 9 Ave   \n2  2020-08-03 07:43:32.6410               426        West St & Chambers St   \n3  2020-08-22 10:17:18.0020              3582     Lincoln Pl & Classon Ave   \n4  2020-08-01 10:46:32.7400               247       Perry St & Bleecker St   \n\n   start station latitude  start station longitude  end station id  \\\n0               40.727714               -74.011296             247   \n1               40.765849               -73.986905            3641   \n2               40.717548               -74.013221             284   \n3               40.672168               -73.960900             473   \n4               40.735354               -74.004831             228   \n\n             end station name  end station latitude  end station longitude  \\\n0      Perry St & Bleecker St             40.735354             -74.004831   \n1          Broadway & W 25 St             40.742869             -73.989186   \n2       Greenwich Ave & 8 Ave             40.739017             -74.002638   \n3  Rivington St & Chrystie St             40.721101             -73.991925   \n4             E 48 St & 3 Ave             40.754601             -73.971879   \n\n   bikeid    usertype  birth year  gender  \n0   40604  Subscriber        1967       1  \n1   44864  Subscriber        1973       2  \n2   45074  Subscriber        1985       1  \n3   42629  Subscriber        1988       2  \n4   41958  Subscriber        1988       1  ",
      "text/html": "<div>\n<style scoped>\n    .dataframe tbody tr th:only-of-type {\n        vertical-align: middle;\n    }\n\n    .dataframe tbody tr th {\n        vertical-align: top;\n    }\n\n    .dataframe thead th {\n        text-align: right;\n    }\n</style>\n<table border=\"1\" class=\"dataframe\">\n  <thead>\n    <tr style=\"text-align: right;\">\n      <th></th>\n      <th>Unnamed: 0</th>\n      <th>Unnamed: 0.1</th>\n      <th>tripduration</th>\n      <th>starttime</th>\n      <th>stoptime</th>\n      <th>start station id</th>\n      <th>start station name</th>\n      <th>start station latitude</th>\n      <th>start station longitude</th>\n      <th>end station id</th>\n      <th>end station name</th>\n      <th>end station latitude</th>\n      <th>end station longitude</th>\n      <th>bikeid</th>\n      <th>usertype</th>\n      <th>birth year</th>\n      <th>gender</th>\n    </tr>\n  </thead>\n  <tbody>\n    <tr>\n      <th>0</th>\n      <td>1477479</td>\n      <td>1477479</td>\n      <td>364</td>\n      <td>2020-08-21 11:38:58.9800</td>\n      <td>2020-08-21 11:45:03.3120</td>\n      <td>3256</td>\n      <td>Pier 40 - Hudson River Park</td>\n      <td>40.727714</td>\n      <td>-74.011296</td>\n      <td>247</td>\n      <td>Perry St &amp; Bleecker St</td>\n      <td>40.735354</td>\n      <td>-74.004831</td>\n      <td>40604</td>\n      <td>Subscriber</td>\n      <td>1967</td>\n      <td>1</td>\n    </tr>\n    <tr>\n      <th>1</th>\n      <td>507762</td>\n      <td>507762</td>\n      <td>810</td>\n      <td>2020-08-08 11:18:09.5230</td>\n      <td>2020-08-08 11:31:39.8530</td>\n      <td>423</td>\n      <td>W 54 St &amp; 9 Ave</td>\n      <td>40.765849</td>\n      <td>-73.986905</td>\n      <td>3641</td>\n      <td>Broadway &amp; W 25 St</td>\n      <td>40.742869</td>\n      <td>-73.989186</td>\n      <td>44864</td>\n      <td>Subscriber</td>\n      <td>1973</td>\n      <td>2</td>\n    </tr>\n    <tr>\n      <th>2</th>\n      <td>163825</td>\n      <td>163825</td>\n      <td>777</td>\n      <td>2020-08-03 07:30:34.7530</td>\n      <td>2020-08-03 07:43:32.6410</td>\n      <td>426</td>\n      <td>West St &amp; Chambers St</td>\n      <td>40.717548</td>\n      <td>-74.013221</td>\n      <td>284</td>\n      <td>Greenwich Ave &amp; 8 Ave</td>\n      <td>40.739017</td>\n      <td>-74.002638</td>\n      <td>45074</td>\n      <td>Subscriber</td>\n      <td>1985</td>\n      <td>1</td>\n    </tr>\n    <tr>\n      <th>3</th>\n      <td>1553295</td>\n      <td>1553295</td>\n      <td>1780</td>\n      <td>2020-08-22 09:47:37.5210</td>\n      <td>2020-08-22 10:17:18.0020</td>\n      <td>3582</td>\n      <td>Lincoln Pl &amp; Classon Ave</td>\n      <td>40.672168</td>\n      <td>-73.960900</td>\n      <td>473</td>\n      <td>Rivington St &amp; Chrystie St</td>\n      <td>40.721101</td>\n      <td>-73.991925</td>\n      <td>42629</td>\n      <td>Subscriber</td>\n      <td>1988</td>\n      <td>2</td>\n    </tr>\n    <tr>\n      <th>4</th>\n      <td>14003</td>\n      <td>14003</td>\n      <td>1618</td>\n      <td>2020-08-01 10:19:34.6720</td>\n      <td>2020-08-01 10:46:32.7400</td>\n      <td>247</td>\n      <td>Perry St &amp; Bleecker St</td>\n      <td>40.735354</td>\n      <td>-74.004831</td>\n      <td>228</td>\n      <td>E 48 St &amp; 3 Ave</td>\n      <td>40.754601</td>\n      <td>-73.971879</td>\n      <td>41958</td>\n      <td>Subscriber</td>\n      <td>1988</td>\n      <td>1</td>\n    </tr>\n  </tbody>\n</table>\n</div>"
     },
     "metadata": {},
     "execution_count": 51
    }
   ],
   "source": [
    "df.head()"
   ]
  },
  {
   "cell_type": "code",
   "execution_count": 52,
   "metadata": {},
   "outputs": [
    {
     "output_type": "execute_result",
     "data": {
      "text/plain": "        Unnamed: 0  Unnamed: 0.1  tripduration                 starttime  \\\n232946      882047        882047          2907  2020-08-13 08:04:59.6560   \n232947     1593642       1593642           272  2020-08-22 16:16:32.6110   \n232948       40322         40322           649  2020-08-01 14:50:04.7560   \n232949     1696467       1696467           249  2020-08-23 19:07:24.4260   \n232950     1648457       1648457           580  2020-08-23 11:59:30.1880   \n\n                        stoptime  start station id  \\\n232946  2020-08-13 08:53:27.2880              3336   \n232947  2020-08-22 16:21:04.8180               284   \n232948  2020-08-01 15:00:54.3670               474   \n232949  2020-08-23 19:11:33.5750              3337   \n232950  2020-08-23 12:09:10.6010               274   \n\n                    start station name  start station latitude  \\\n232946           E 97 St & Madison Ave               40.787801   \n232947           Greenwich Ave & 8 Ave               40.739017   \n232948                 5 Ave & E 29 St               40.745168   \n232949         Dwight St & Van Dyke St               40.673636   \n232950  Lafayette Ave & Fort Greene Pl               40.686919   \n\n        start station longitude  end station id  \\\n232946               -73.953559            3059   \n232947               -74.002638             453   \n232948               -73.986831            3260   \n232949               -74.011956            3344   \n232950               -73.976682            3048   \n\n                       end station name  end station latitude  \\\n232946  Pulaski St & Marcus Garvey Blvd             40.693398   \n232947                  W 22 St & 8 Ave             40.744751   \n232948          Mercer St & Bleecker St             40.727064   \n232949        Pioneer St & Van Brunt St             40.679043   \n232950        Putnam Ave & Nostrand Ave             40.684020   \n\n        end station longitude  bikeid    usertype  birth year  gender  \n232946             -73.939877   37701    Customer        1969       0  \n232947             -73.999154   30497  Subscriber        1961       2  \n232948             -73.996621   30800  Subscriber        1992       2  \n232949             -74.011169   44168  Subscriber        1980       2  \n232950             -73.949770   41485  Subscriber        1988       2  ",
      "text/html": "<div>\n<style scoped>\n    .dataframe tbody tr th:only-of-type {\n        vertical-align: middle;\n    }\n\n    .dataframe tbody tr th {\n        vertical-align: top;\n    }\n\n    .dataframe thead th {\n        text-align: right;\n    }\n</style>\n<table border=\"1\" class=\"dataframe\">\n  <thead>\n    <tr style=\"text-align: right;\">\n      <th></th>\n      <th>Unnamed: 0</th>\n      <th>Unnamed: 0.1</th>\n      <th>tripduration</th>\n      <th>starttime</th>\n      <th>stoptime</th>\n      <th>start station id</th>\n      <th>start station name</th>\n      <th>start station latitude</th>\n      <th>start station longitude</th>\n      <th>end station id</th>\n      <th>end station name</th>\n      <th>end station latitude</th>\n      <th>end station longitude</th>\n      <th>bikeid</th>\n      <th>usertype</th>\n      <th>birth year</th>\n      <th>gender</th>\n    </tr>\n  </thead>\n  <tbody>\n    <tr>\n      <th>232946</th>\n      <td>882047</td>\n      <td>882047</td>\n      <td>2907</td>\n      <td>2020-08-13 08:04:59.6560</td>\n      <td>2020-08-13 08:53:27.2880</td>\n      <td>3336</td>\n      <td>E 97 St &amp; Madison Ave</td>\n      <td>40.787801</td>\n      <td>-73.953559</td>\n      <td>3059</td>\n      <td>Pulaski St &amp; Marcus Garvey Blvd</td>\n      <td>40.693398</td>\n      <td>-73.939877</td>\n      <td>37701</td>\n      <td>Customer</td>\n      <td>1969</td>\n      <td>0</td>\n    </tr>\n    <tr>\n      <th>232947</th>\n      <td>1593642</td>\n      <td>1593642</td>\n      <td>272</td>\n      <td>2020-08-22 16:16:32.6110</td>\n      <td>2020-08-22 16:21:04.8180</td>\n      <td>284</td>\n      <td>Greenwich Ave &amp; 8 Ave</td>\n      <td>40.739017</td>\n      <td>-74.002638</td>\n      <td>453</td>\n      <td>W 22 St &amp; 8 Ave</td>\n      <td>40.744751</td>\n      <td>-73.999154</td>\n      <td>30497</td>\n      <td>Subscriber</td>\n      <td>1961</td>\n      <td>2</td>\n    </tr>\n    <tr>\n      <th>232948</th>\n      <td>40322</td>\n      <td>40322</td>\n      <td>649</td>\n      <td>2020-08-01 14:50:04.7560</td>\n      <td>2020-08-01 15:00:54.3670</td>\n      <td>474</td>\n      <td>5 Ave &amp; E 29 St</td>\n      <td>40.745168</td>\n      <td>-73.986831</td>\n      <td>3260</td>\n      <td>Mercer St &amp; Bleecker St</td>\n      <td>40.727064</td>\n      <td>-73.996621</td>\n      <td>30800</td>\n      <td>Subscriber</td>\n      <td>1992</td>\n      <td>2</td>\n    </tr>\n    <tr>\n      <th>232949</th>\n      <td>1696467</td>\n      <td>1696467</td>\n      <td>249</td>\n      <td>2020-08-23 19:07:24.4260</td>\n      <td>2020-08-23 19:11:33.5750</td>\n      <td>3337</td>\n      <td>Dwight St &amp; Van Dyke St</td>\n      <td>40.673636</td>\n      <td>-74.011956</td>\n      <td>3344</td>\n      <td>Pioneer St &amp; Van Brunt St</td>\n      <td>40.679043</td>\n      <td>-74.011169</td>\n      <td>44168</td>\n      <td>Subscriber</td>\n      <td>1980</td>\n      <td>2</td>\n    </tr>\n    <tr>\n      <th>232950</th>\n      <td>1648457</td>\n      <td>1648457</td>\n      <td>580</td>\n      <td>2020-08-23 11:59:30.1880</td>\n      <td>2020-08-23 12:09:10.6010</td>\n      <td>274</td>\n      <td>Lafayette Ave &amp; Fort Greene Pl</td>\n      <td>40.686919</td>\n      <td>-73.976682</td>\n      <td>3048</td>\n      <td>Putnam Ave &amp; Nostrand Ave</td>\n      <td>40.684020</td>\n      <td>-73.949770</td>\n      <td>41485</td>\n      <td>Subscriber</td>\n      <td>1988</td>\n      <td>2</td>\n    </tr>\n  </tbody>\n</table>\n</div>"
     },
     "metadata": {},
     "execution_count": 52
    }
   ],
   "source": [
    "df.tail()"
   ]
  },
  {
   "cell_type": "code",
   "execution_count": 53,
   "metadata": {},
   "outputs": [
    {
     "output_type": "execute_result",
     "data": {
      "text/plain": "(232951, 17)"
     },
     "metadata": {},
     "execution_count": 53
    }
   ],
   "source": [
    "df.shape"
   ]
  },
  {
   "cell_type": "code",
   "execution_count": 54,
   "metadata": {},
   "outputs": [
    {
     "output_type": "execute_result",
     "data": {
      "text/plain": "Unnamed: 0                   int64\nUnnamed: 0.1                 int64\ntripduration                 int64\nstarttime                   object\nstoptime                    object\nstart station id             int64\nstart station name          object\nstart station latitude     float64\nstart station longitude    float64\nend station id               int64\nend station name            object\nend station latitude       float64\nend station longitude      float64\nbikeid                       int64\nusertype                    object\nbirth year                   int64\ngender                       int64\ndtype: object"
     },
     "metadata": {},
     "execution_count": 54
    }
   ],
   "source": [
    "df.dtypes"
   ]
  },
  {
   "cell_type": "code",
   "execution_count": 55,
   "metadata": {},
   "outputs": [
    {
     "output_type": "execute_result",
     "data": {
      "text/plain": "Unnamed: 0                                        1648457\nUnnamed: 0.1                                      1648457\ntripduration                                          580\nstarttime                        2020-08-23 11:59:30.1880\nstoptime                         2020-08-23 12:09:10.6010\nstart station id                                      274\nstart station name         Lafayette Ave & Fort Greene Pl\nstart station latitude                            40.6869\nstart station longitude                          -73.9767\nend station id                                       3048\nend station name                Putnam Ave & Nostrand Ave\nend station latitude                               40.684\nend station longitude                            -73.9498\nbikeid                                              41485\nusertype                                       Subscriber\nbirth year                                           1988\ngender                                                  2\nName: 232950, dtype: object"
     },
     "metadata": {},
     "execution_count": 55
    }
   ],
   "source": [
    "df.iloc[-1]"
   ]
  },
  {
   "cell_type": "code",
   "execution_count": 56,
   "metadata": {},
   "outputs": [
    {
     "output_type": "execute_result",
     "data": {
      "text/plain": "tripduration    810\nName: 1, dtype: object"
     },
     "metadata": {},
     "execution_count": 56
    }
   ],
   "source": [
    "df.loc[1, ['tripduration']]"
   ]
  },
  {
   "cell_type": "code",
   "execution_count": 57,
   "metadata": {},
   "outputs": [
    {
     "output_type": "error",
     "ename": "TypeError",
     "evalue": "cannot do slice indexing on Index with these indexers [0] of type int",
     "traceback": [
      "\u001b[1;31m---------------------------------------------------------------------------\u001b[0m",
      "\u001b[1;31mTypeError\u001b[0m                                 Traceback (most recent call last)",
      "\u001b[1;32m<ipython-input-57-f2ea933bbc84>\u001b[0m in \u001b[0;36m<module>\u001b[1;34m\u001b[0m\n\u001b[1;32m----> 1\u001b[1;33m \u001b[0mdf\u001b[0m\u001b[1;33m.\u001b[0m\u001b[0mloc\u001b[0m\u001b[1;33m[\u001b[0m\u001b[1;36m0\u001b[0m\u001b[1;33m:\u001b[0m\u001b[1;36m6\u001b[0m\u001b[1;33m,\u001b[0m \u001b[1;36m0\u001b[0m\u001b[1;33m:\u001b[0m\u001b[1;36m4\u001b[0m\u001b[1;33m]\u001b[0m\u001b[1;33m\u001b[0m\u001b[1;33m\u001b[0m\u001b[0m\n\u001b[0m",
      "\u001b[1;32mc:\\Users\\pkiny\\Mystuff\\Coursera-Programming-in-Python\\myenv\\lib\\site-packages\\pandas\\core\\indexing.py\u001b[0m in \u001b[0;36m__getitem__\u001b[1;34m(self, key)\u001b[0m\n\u001b[0;32m    871\u001b[0m                     \u001b[1;31m# AttributeError for IntervalTree get_value\u001b[0m\u001b[1;33m\u001b[0m\u001b[1;33m\u001b[0m\u001b[1;33m\u001b[0m\u001b[0m\n\u001b[0;32m    872\u001b[0m                     \u001b[1;32mpass\u001b[0m\u001b[1;33m\u001b[0m\u001b[1;33m\u001b[0m\u001b[0m\n\u001b[1;32m--> 873\u001b[1;33m             \u001b[1;32mreturn\u001b[0m \u001b[0mself\u001b[0m\u001b[1;33m.\u001b[0m\u001b[0m_getitem_tuple\u001b[0m\u001b[1;33m(\u001b[0m\u001b[0mkey\u001b[0m\u001b[1;33m)\u001b[0m\u001b[1;33m\u001b[0m\u001b[1;33m\u001b[0m\u001b[0m\n\u001b[0m\u001b[0;32m    874\u001b[0m         \u001b[1;32melse\u001b[0m\u001b[1;33m:\u001b[0m\u001b[1;33m\u001b[0m\u001b[1;33m\u001b[0m\u001b[0m\n\u001b[0;32m    875\u001b[0m             \u001b[1;31m# we by definition only have the 0th axis\u001b[0m\u001b[1;33m\u001b[0m\u001b[1;33m\u001b[0m\u001b[1;33m\u001b[0m\u001b[0m\n",
      "\u001b[1;32mc:\\Users\\pkiny\\Mystuff\\Coursera-Programming-in-Python\\myenv\\lib\\site-packages\\pandas\\core\\indexing.py\u001b[0m in \u001b[0;36m_getitem_tuple\u001b[1;34m(self, tup)\u001b[0m\n\u001b[0;32m   1053\u001b[0m             \u001b[1;32mreturn\u001b[0m \u001b[0mself\u001b[0m\u001b[1;33m.\u001b[0m\u001b[0m_multi_take\u001b[0m\u001b[1;33m(\u001b[0m\u001b[0mtup\u001b[0m\u001b[1;33m)\u001b[0m\u001b[1;33m\u001b[0m\u001b[1;33m\u001b[0m\u001b[0m\n\u001b[0;32m   1054\u001b[0m \u001b[1;33m\u001b[0m\u001b[0m\n\u001b[1;32m-> 1055\u001b[1;33m         \u001b[1;32mreturn\u001b[0m \u001b[0mself\u001b[0m\u001b[1;33m.\u001b[0m\u001b[0m_getitem_tuple_same_dim\u001b[0m\u001b[1;33m(\u001b[0m\u001b[0mtup\u001b[0m\u001b[1;33m)\u001b[0m\u001b[1;33m\u001b[0m\u001b[1;33m\u001b[0m\u001b[0m\n\u001b[0m\u001b[0;32m   1056\u001b[0m \u001b[1;33m\u001b[0m\u001b[0m\n\u001b[0;32m   1057\u001b[0m     \u001b[1;32mdef\u001b[0m \u001b[0m_get_label\u001b[0m\u001b[1;33m(\u001b[0m\u001b[0mself\u001b[0m\u001b[1;33m,\u001b[0m \u001b[0mlabel\u001b[0m\u001b[1;33m,\u001b[0m \u001b[0maxis\u001b[0m\u001b[1;33m:\u001b[0m \u001b[0mint\u001b[0m\u001b[1;33m)\u001b[0m\u001b[1;33m:\u001b[0m\u001b[1;33m\u001b[0m\u001b[1;33m\u001b[0m\u001b[0m\n",
      "\u001b[1;32mc:\\Users\\pkiny\\Mystuff\\Coursera-Programming-in-Python\\myenv\\lib\\site-packages\\pandas\\core\\indexing.py\u001b[0m in \u001b[0;36m_getitem_tuple_same_dim\u001b[1;34m(self, tup)\u001b[0m\n\u001b[0;32m    748\u001b[0m                 \u001b[1;32mcontinue\u001b[0m\u001b[1;33m\u001b[0m\u001b[1;33m\u001b[0m\u001b[0m\n\u001b[0;32m    749\u001b[0m \u001b[1;33m\u001b[0m\u001b[0m\n\u001b[1;32m--> 750\u001b[1;33m             \u001b[0mretval\u001b[0m \u001b[1;33m=\u001b[0m \u001b[0mgetattr\u001b[0m\u001b[1;33m(\u001b[0m\u001b[0mretval\u001b[0m\u001b[1;33m,\u001b[0m \u001b[0mself\u001b[0m\u001b[1;33m.\u001b[0m\u001b[0mname\u001b[0m\u001b[1;33m)\u001b[0m\u001b[1;33m.\u001b[0m\u001b[0m_getitem_axis\u001b[0m\u001b[1;33m(\u001b[0m\u001b[0mkey\u001b[0m\u001b[1;33m,\u001b[0m \u001b[0maxis\u001b[0m\u001b[1;33m=\u001b[0m\u001b[0mi\u001b[0m\u001b[1;33m)\u001b[0m\u001b[1;33m\u001b[0m\u001b[1;33m\u001b[0m\u001b[0m\n\u001b[0m\u001b[0;32m    751\u001b[0m             \u001b[1;31m# We should never have retval.ndim < self.ndim, as that should\u001b[0m\u001b[1;33m\u001b[0m\u001b[1;33m\u001b[0m\u001b[1;33m\u001b[0m\u001b[0m\n\u001b[0;32m    752\u001b[0m             \u001b[1;31m#  be handled by the _getitem_lowerdim call above.\u001b[0m\u001b[1;33m\u001b[0m\u001b[1;33m\u001b[0m\u001b[1;33m\u001b[0m\u001b[0m\n",
      "\u001b[1;32mc:\\Users\\pkiny\\Mystuff\\Coursera-Programming-in-Python\\myenv\\lib\\site-packages\\pandas\\core\\indexing.py\u001b[0m in \u001b[0;36m_getitem_axis\u001b[1;34m(self, key, axis)\u001b[0m\n\u001b[0;32m   1086\u001b[0m         \u001b[1;32mif\u001b[0m \u001b[0misinstance\u001b[0m\u001b[1;33m(\u001b[0m\u001b[0mkey\u001b[0m\u001b[1;33m,\u001b[0m \u001b[0mslice\u001b[0m\u001b[1;33m)\u001b[0m\u001b[1;33m:\u001b[0m\u001b[1;33m\u001b[0m\u001b[1;33m\u001b[0m\u001b[0m\n\u001b[0;32m   1087\u001b[0m             \u001b[0mself\u001b[0m\u001b[1;33m.\u001b[0m\u001b[0m_validate_key\u001b[0m\u001b[1;33m(\u001b[0m\u001b[0mkey\u001b[0m\u001b[1;33m,\u001b[0m \u001b[0maxis\u001b[0m\u001b[1;33m)\u001b[0m\u001b[1;33m\u001b[0m\u001b[1;33m\u001b[0m\u001b[0m\n\u001b[1;32m-> 1088\u001b[1;33m             \u001b[1;32mreturn\u001b[0m \u001b[0mself\u001b[0m\u001b[1;33m.\u001b[0m\u001b[0m_get_slice_axis\u001b[0m\u001b[1;33m(\u001b[0m\u001b[0mkey\u001b[0m\u001b[1;33m,\u001b[0m \u001b[0maxis\u001b[0m\u001b[1;33m=\u001b[0m\u001b[0maxis\u001b[0m\u001b[1;33m)\u001b[0m\u001b[1;33m\u001b[0m\u001b[1;33m\u001b[0m\u001b[0m\n\u001b[0m\u001b[0;32m   1089\u001b[0m         \u001b[1;32melif\u001b[0m \u001b[0mcom\u001b[0m\u001b[1;33m.\u001b[0m\u001b[0mis_bool_indexer\u001b[0m\u001b[1;33m(\u001b[0m\u001b[0mkey\u001b[0m\u001b[1;33m)\u001b[0m\u001b[1;33m:\u001b[0m\u001b[1;33m\u001b[0m\u001b[1;33m\u001b[0m\u001b[0m\n\u001b[0;32m   1090\u001b[0m             \u001b[1;32mreturn\u001b[0m \u001b[0mself\u001b[0m\u001b[1;33m.\u001b[0m\u001b[0m_getbool_axis\u001b[0m\u001b[1;33m(\u001b[0m\u001b[0mkey\u001b[0m\u001b[1;33m,\u001b[0m \u001b[0maxis\u001b[0m\u001b[1;33m=\u001b[0m\u001b[0maxis\u001b[0m\u001b[1;33m)\u001b[0m\u001b[1;33m\u001b[0m\u001b[1;33m\u001b[0m\u001b[0m\n",
      "\u001b[1;32mc:\\Users\\pkiny\\Mystuff\\Coursera-Programming-in-Python\\myenv\\lib\\site-packages\\pandas\\core\\indexing.py\u001b[0m in \u001b[0;36m_get_slice_axis\u001b[1;34m(self, slice_obj, axis)\u001b[0m\n\u001b[0;32m   1120\u001b[0m \u001b[1;33m\u001b[0m\u001b[0m\n\u001b[0;32m   1121\u001b[0m         \u001b[0mlabels\u001b[0m \u001b[1;33m=\u001b[0m \u001b[0mobj\u001b[0m\u001b[1;33m.\u001b[0m\u001b[0m_get_axis\u001b[0m\u001b[1;33m(\u001b[0m\u001b[0maxis\u001b[0m\u001b[1;33m)\u001b[0m\u001b[1;33m\u001b[0m\u001b[1;33m\u001b[0m\u001b[0m\n\u001b[1;32m-> 1122\u001b[1;33m         indexer = labels.slice_indexer(\n\u001b[0m\u001b[0;32m   1123\u001b[0m             \u001b[0mslice_obj\u001b[0m\u001b[1;33m.\u001b[0m\u001b[0mstart\u001b[0m\u001b[1;33m,\u001b[0m \u001b[0mslice_obj\u001b[0m\u001b[1;33m.\u001b[0m\u001b[0mstop\u001b[0m\u001b[1;33m,\u001b[0m \u001b[0mslice_obj\u001b[0m\u001b[1;33m.\u001b[0m\u001b[0mstep\u001b[0m\u001b[1;33m,\u001b[0m \u001b[0mkind\u001b[0m\u001b[1;33m=\u001b[0m\u001b[1;34m\"loc\"\u001b[0m\u001b[1;33m\u001b[0m\u001b[1;33m\u001b[0m\u001b[0m\n\u001b[0;32m   1124\u001b[0m         )\n",
      "\u001b[1;32mc:\\Users\\pkiny\\Mystuff\\Coursera-Programming-in-Python\\myenv\\lib\\site-packages\\pandas\\core\\indexes\\base.py\u001b[0m in \u001b[0;36mslice_indexer\u001b[1;34m(self, start, end, step, kind)\u001b[0m\n\u001b[0;32m   4960\u001b[0m         \u001b[0mslice\u001b[0m\u001b[1;33m(\u001b[0m\u001b[1;36m1\u001b[0m\u001b[1;33m,\u001b[0m \u001b[1;36m3\u001b[0m\u001b[1;33m,\u001b[0m \u001b[1;32mNone\u001b[0m\u001b[1;33m)\u001b[0m\u001b[1;33m\u001b[0m\u001b[1;33m\u001b[0m\u001b[0m\n\u001b[0;32m   4961\u001b[0m         \"\"\"\n\u001b[1;32m-> 4962\u001b[1;33m         \u001b[0mstart_slice\u001b[0m\u001b[1;33m,\u001b[0m \u001b[0mend_slice\u001b[0m \u001b[1;33m=\u001b[0m \u001b[0mself\u001b[0m\u001b[1;33m.\u001b[0m\u001b[0mslice_locs\u001b[0m\u001b[1;33m(\u001b[0m\u001b[0mstart\u001b[0m\u001b[1;33m,\u001b[0m \u001b[0mend\u001b[0m\u001b[1;33m,\u001b[0m \u001b[0mstep\u001b[0m\u001b[1;33m=\u001b[0m\u001b[0mstep\u001b[0m\u001b[1;33m,\u001b[0m \u001b[0mkind\u001b[0m\u001b[1;33m=\u001b[0m\u001b[0mkind\u001b[0m\u001b[1;33m)\u001b[0m\u001b[1;33m\u001b[0m\u001b[1;33m\u001b[0m\u001b[0m\n\u001b[0m\u001b[0;32m   4963\u001b[0m \u001b[1;33m\u001b[0m\u001b[0m\n\u001b[0;32m   4964\u001b[0m         \u001b[1;31m# return a slice\u001b[0m\u001b[1;33m\u001b[0m\u001b[1;33m\u001b[0m\u001b[1;33m\u001b[0m\u001b[0m\n",
      "\u001b[1;32mc:\\Users\\pkiny\\Mystuff\\Coursera-Programming-in-Python\\myenv\\lib\\site-packages\\pandas\\core\\indexes\\base.py\u001b[0m in \u001b[0;36mslice_locs\u001b[1;34m(self, start, end, step, kind)\u001b[0m\n\u001b[0;32m   5161\u001b[0m         \u001b[0mstart_slice\u001b[0m \u001b[1;33m=\u001b[0m \u001b[1;32mNone\u001b[0m\u001b[1;33m\u001b[0m\u001b[1;33m\u001b[0m\u001b[0m\n\u001b[0;32m   5162\u001b[0m         \u001b[1;32mif\u001b[0m \u001b[0mstart\u001b[0m \u001b[1;32mis\u001b[0m \u001b[1;32mnot\u001b[0m \u001b[1;32mNone\u001b[0m\u001b[1;33m:\u001b[0m\u001b[1;33m\u001b[0m\u001b[1;33m\u001b[0m\u001b[0m\n\u001b[1;32m-> 5163\u001b[1;33m             \u001b[0mstart_slice\u001b[0m \u001b[1;33m=\u001b[0m \u001b[0mself\u001b[0m\u001b[1;33m.\u001b[0m\u001b[0mget_slice_bound\u001b[0m\u001b[1;33m(\u001b[0m\u001b[0mstart\u001b[0m\u001b[1;33m,\u001b[0m \u001b[1;34m\"left\"\u001b[0m\u001b[1;33m,\u001b[0m \u001b[0mkind\u001b[0m\u001b[1;33m)\u001b[0m\u001b[1;33m\u001b[0m\u001b[1;33m\u001b[0m\u001b[0m\n\u001b[0m\u001b[0;32m   5164\u001b[0m         \u001b[1;32mif\u001b[0m \u001b[0mstart_slice\u001b[0m \u001b[1;32mis\u001b[0m \u001b[1;32mNone\u001b[0m\u001b[1;33m:\u001b[0m\u001b[1;33m\u001b[0m\u001b[1;33m\u001b[0m\u001b[0m\n\u001b[0;32m   5165\u001b[0m             \u001b[0mstart_slice\u001b[0m \u001b[1;33m=\u001b[0m \u001b[1;36m0\u001b[0m\u001b[1;33m\u001b[0m\u001b[1;33m\u001b[0m\u001b[0m\n",
      "\u001b[1;32mc:\\Users\\pkiny\\Mystuff\\Coursera-Programming-in-Python\\myenv\\lib\\site-packages\\pandas\\core\\indexes\\base.py\u001b[0m in \u001b[0;36mget_slice_bound\u001b[1;34m(self, label, side, kind)\u001b[0m\n\u001b[0;32m   5073\u001b[0m         \u001b[1;31m# For datetime indices label may be a string that has to be converted\u001b[0m\u001b[1;33m\u001b[0m\u001b[1;33m\u001b[0m\u001b[1;33m\u001b[0m\u001b[0m\n\u001b[0;32m   5074\u001b[0m         \u001b[1;31m# to datetime boundary according to its resolution.\u001b[0m\u001b[1;33m\u001b[0m\u001b[1;33m\u001b[0m\u001b[1;33m\u001b[0m\u001b[0m\n\u001b[1;32m-> 5075\u001b[1;33m         \u001b[0mlabel\u001b[0m \u001b[1;33m=\u001b[0m \u001b[0mself\u001b[0m\u001b[1;33m.\u001b[0m\u001b[0m_maybe_cast_slice_bound\u001b[0m\u001b[1;33m(\u001b[0m\u001b[0mlabel\u001b[0m\u001b[1;33m,\u001b[0m \u001b[0mside\u001b[0m\u001b[1;33m,\u001b[0m \u001b[0mkind\u001b[0m\u001b[1;33m)\u001b[0m\u001b[1;33m\u001b[0m\u001b[1;33m\u001b[0m\u001b[0m\n\u001b[0m\u001b[0;32m   5076\u001b[0m \u001b[1;33m\u001b[0m\u001b[0m\n\u001b[0;32m   5077\u001b[0m         \u001b[1;31m# we need to look up the label\u001b[0m\u001b[1;33m\u001b[0m\u001b[1;33m\u001b[0m\u001b[1;33m\u001b[0m\u001b[0m\n",
      "\u001b[1;32mc:\\Users\\pkiny\\Mystuff\\Coursera-Programming-in-Python\\myenv\\lib\\site-packages\\pandas\\core\\indexes\\base.py\u001b[0m in \u001b[0;36m_maybe_cast_slice_bound\u001b[1;34m(self, label, side, kind)\u001b[0m\n\u001b[0;32m   5025\u001b[0m         \u001b[1;31m# this is rejected (generally .loc gets you here)\u001b[0m\u001b[1;33m\u001b[0m\u001b[1;33m\u001b[0m\u001b[1;33m\u001b[0m\u001b[0m\n\u001b[0;32m   5026\u001b[0m         \u001b[1;32melif\u001b[0m \u001b[0mis_integer\u001b[0m\u001b[1;33m(\u001b[0m\u001b[0mlabel\u001b[0m\u001b[1;33m)\u001b[0m\u001b[1;33m:\u001b[0m\u001b[1;33m\u001b[0m\u001b[1;33m\u001b[0m\u001b[0m\n\u001b[1;32m-> 5027\u001b[1;33m             \u001b[0mself\u001b[0m\u001b[1;33m.\u001b[0m\u001b[0m_invalid_indexer\u001b[0m\u001b[1;33m(\u001b[0m\u001b[1;34m\"slice\"\u001b[0m\u001b[1;33m,\u001b[0m \u001b[0mlabel\u001b[0m\u001b[1;33m)\u001b[0m\u001b[1;33m\u001b[0m\u001b[1;33m\u001b[0m\u001b[0m\n\u001b[0m\u001b[0;32m   5028\u001b[0m \u001b[1;33m\u001b[0m\u001b[0m\n\u001b[0;32m   5029\u001b[0m         \u001b[1;32mreturn\u001b[0m \u001b[0mlabel\u001b[0m\u001b[1;33m\u001b[0m\u001b[1;33m\u001b[0m\u001b[0m\n",
      "\u001b[1;32mc:\\Users\\pkiny\\Mystuff\\Coursera-Programming-in-Python\\myenv\\lib\\site-packages\\pandas\\core\\indexes\\base.py\u001b[0m in \u001b[0;36m_invalid_indexer\u001b[1;34m(self, form, key)\u001b[0m\n\u001b[0;32m   3261\u001b[0m         \u001b[0mConsistent\u001b[0m \u001b[0minvalid\u001b[0m \u001b[0mindexer\u001b[0m \u001b[0mmessage\u001b[0m\u001b[1;33m.\u001b[0m\u001b[1;33m\u001b[0m\u001b[1;33m\u001b[0m\u001b[0m\n\u001b[0;32m   3262\u001b[0m         \"\"\"\n\u001b[1;32m-> 3263\u001b[1;33m         raise TypeError(\n\u001b[0m\u001b[0;32m   3264\u001b[0m             \u001b[1;34mf\"cannot do {form} indexing on {type(self).__name__} with these \"\u001b[0m\u001b[1;33m\u001b[0m\u001b[1;33m\u001b[0m\u001b[0m\n\u001b[0;32m   3265\u001b[0m             \u001b[1;34mf\"indexers [{key}] of type {type(key).__name__}\"\u001b[0m\u001b[1;33m\u001b[0m\u001b[1;33m\u001b[0m\u001b[0m\n",
      "\u001b[1;31mTypeError\u001b[0m: cannot do slice indexing on Index with these indexers [0] of type int"
     ]
    }
   ],
   "source": [
    "df.loc[0:6, 0:4]"
   ]
  },
  {
   "cell_type": "code",
   "execution_count": 58,
   "metadata": {},
   "outputs": [
    {
     "output_type": "execute_result",
     "data": {
      "text/plain": "         Unnamed: 0  Unnamed: 0.1  tripduration  start station id  \\\ncount  2.329510e+05  2.329510e+05  2.329510e+05     232951.000000   \nmean   1.166025e+06  1.166025e+06  1.412571e+03       2077.382415   \nstd    6.731840e+05  6.731840e+05  1.565785e+04       1545.642456   \nmin    2.700000e+01  2.700000e+01  6.100000e+01         72.000000   \n25%    5.838250e+05  5.838250e+05  4.720000e+02        426.000000   \n50%    1.165049e+06  1.165049e+06  8.630000e+02       3096.000000   \n75%    1.749816e+06  1.749816e+06  1.507000e+03       3507.000000   \nmax    2.329489e+06  2.329489e+06  2.404449e+06       4124.000000   \n\n       start station latitude  start station longitude  end station id  \\\ncount           232951.000000            232951.000000   232951.000000   \nmean                40.740375               -73.976386     2071.890535   \nstd                  0.035814                 0.023801     1546.323727   \nmin                 40.655400               -74.025353       72.000000   \n25%                 40.716021               -73.993929      426.000000   \n50%                 40.739126               -73.980930     3093.000000   \n75%                 40.763707               -73.959089     3504.000000   \nmax                 40.852252               -73.897950     4124.000000   \n\n       end station latitude  end station longitude         bikeid  \\\ncount         232951.000000          232951.000000  232951.000000   \nmean              40.739966             -73.976492   35014.716769   \nstd                0.035711               0.023889    9111.083271   \nmin               40.655400             -74.046964   14529.000000   \n25%               40.715816             -73.994004   28700.000000   \n50%               40.738177             -73.981281   37736.000000   \n75%               40.763605             -73.959010   42735.000000   \nmax               40.852252             -73.897950   46840.000000   \n\n          birth year         gender  \ncount  232951.000000  232951.000000  \nmean     1981.948839       1.164927  \nstd        12.206473       0.634121  \nmin      1885.000000       0.000000  \n25%      1969.000000       1.000000  \n50%      1985.000000       1.000000  \n75%      1992.000000       2.000000  \nmax      2004.000000       2.000000  ",
      "text/html": "<div>\n<style scoped>\n    .dataframe tbody tr th:only-of-type {\n        vertical-align: middle;\n    }\n\n    .dataframe tbody tr th {\n        vertical-align: top;\n    }\n\n    .dataframe thead th {\n        text-align: right;\n    }\n</style>\n<table border=\"1\" class=\"dataframe\">\n  <thead>\n    <tr style=\"text-align: right;\">\n      <th></th>\n      <th>Unnamed: 0</th>\n      <th>Unnamed: 0.1</th>\n      <th>tripduration</th>\n      <th>start station id</th>\n      <th>start station latitude</th>\n      <th>start station longitude</th>\n      <th>end station id</th>\n      <th>end station latitude</th>\n      <th>end station longitude</th>\n      <th>bikeid</th>\n      <th>birth year</th>\n      <th>gender</th>\n    </tr>\n  </thead>\n  <tbody>\n    <tr>\n      <th>count</th>\n      <td>2.329510e+05</td>\n      <td>2.329510e+05</td>\n      <td>2.329510e+05</td>\n      <td>232951.000000</td>\n      <td>232951.000000</td>\n      <td>232951.000000</td>\n      <td>232951.000000</td>\n      <td>232951.000000</td>\n      <td>232951.000000</td>\n      <td>232951.000000</td>\n      <td>232951.000000</td>\n      <td>232951.000000</td>\n    </tr>\n    <tr>\n      <th>mean</th>\n      <td>1.166025e+06</td>\n      <td>1.166025e+06</td>\n      <td>1.412571e+03</td>\n      <td>2077.382415</td>\n      <td>40.740375</td>\n      <td>-73.976386</td>\n      <td>2071.890535</td>\n      <td>40.739966</td>\n      <td>-73.976492</td>\n      <td>35014.716769</td>\n      <td>1981.948839</td>\n      <td>1.164927</td>\n    </tr>\n    <tr>\n      <th>std</th>\n      <td>6.731840e+05</td>\n      <td>6.731840e+05</td>\n      <td>1.565785e+04</td>\n      <td>1545.642456</td>\n      <td>0.035814</td>\n      <td>0.023801</td>\n      <td>1546.323727</td>\n      <td>0.035711</td>\n      <td>0.023889</td>\n      <td>9111.083271</td>\n      <td>12.206473</td>\n      <td>0.634121</td>\n    </tr>\n    <tr>\n      <th>min</th>\n      <td>2.700000e+01</td>\n      <td>2.700000e+01</td>\n      <td>6.100000e+01</td>\n      <td>72.000000</td>\n      <td>40.655400</td>\n      <td>-74.025353</td>\n      <td>72.000000</td>\n      <td>40.655400</td>\n      <td>-74.046964</td>\n      <td>14529.000000</td>\n      <td>1885.000000</td>\n      <td>0.000000</td>\n    </tr>\n    <tr>\n      <th>25%</th>\n      <td>5.838250e+05</td>\n      <td>5.838250e+05</td>\n      <td>4.720000e+02</td>\n      <td>426.000000</td>\n      <td>40.716021</td>\n      <td>-73.993929</td>\n      <td>426.000000</td>\n      <td>40.715816</td>\n      <td>-73.994004</td>\n      <td>28700.000000</td>\n      <td>1969.000000</td>\n      <td>1.000000</td>\n    </tr>\n    <tr>\n      <th>50%</th>\n      <td>1.165049e+06</td>\n      <td>1.165049e+06</td>\n      <td>8.630000e+02</td>\n      <td>3096.000000</td>\n      <td>40.739126</td>\n      <td>-73.980930</td>\n      <td>3093.000000</td>\n      <td>40.738177</td>\n      <td>-73.981281</td>\n      <td>37736.000000</td>\n      <td>1985.000000</td>\n      <td>1.000000</td>\n    </tr>\n    <tr>\n      <th>75%</th>\n      <td>1.749816e+06</td>\n      <td>1.749816e+06</td>\n      <td>1.507000e+03</td>\n      <td>3507.000000</td>\n      <td>40.763707</td>\n      <td>-73.959089</td>\n      <td>3504.000000</td>\n      <td>40.763605</td>\n      <td>-73.959010</td>\n      <td>42735.000000</td>\n      <td>1992.000000</td>\n      <td>2.000000</td>\n    </tr>\n    <tr>\n      <th>max</th>\n      <td>2.329489e+06</td>\n      <td>2.329489e+06</td>\n      <td>2.404449e+06</td>\n      <td>4124.000000</td>\n      <td>40.852252</td>\n      <td>-73.897950</td>\n      <td>4124.000000</td>\n      <td>40.852252</td>\n      <td>-73.897950</td>\n      <td>46840.000000</td>\n      <td>2004.000000</td>\n      <td>2.000000</td>\n    </tr>\n  </tbody>\n</table>\n</div>"
     },
     "metadata": {},
     "execution_count": 58
    }
   ],
   "source": [
    "df.describe()"
   ]
  },
  {
   "cell_type": "code",
   "execution_count": 59,
   "metadata": {},
   "outputs": [
    {
     "output_type": "execute_result",
     "data": {
      "text/plain": "                       starttime                  stoptime start station name  \\\ncount                     232951                    232951             232951   \nunique                    232929                    232924               1038   \ntop     2020-08-17 19:50:04.2610  2020-08-01 15:07:32.6070   12 Ave & W 40 St   \nfreq                           2                         2               1420   \n\n             end station name    usertype  \ncount                  232951      232951  \nunique                   1046           2  \ntop     West St & Chambers St  Subscriber  \nfreq                     1406      167370  ",
      "text/html": "<div>\n<style scoped>\n    .dataframe tbody tr th:only-of-type {\n        vertical-align: middle;\n    }\n\n    .dataframe tbody tr th {\n        vertical-align: top;\n    }\n\n    .dataframe thead th {\n        text-align: right;\n    }\n</style>\n<table border=\"1\" class=\"dataframe\">\n  <thead>\n    <tr style=\"text-align: right;\">\n      <th></th>\n      <th>starttime</th>\n      <th>stoptime</th>\n      <th>start station name</th>\n      <th>end station name</th>\n      <th>usertype</th>\n    </tr>\n  </thead>\n  <tbody>\n    <tr>\n      <th>count</th>\n      <td>232951</td>\n      <td>232951</td>\n      <td>232951</td>\n      <td>232951</td>\n      <td>232951</td>\n    </tr>\n    <tr>\n      <th>unique</th>\n      <td>232929</td>\n      <td>232924</td>\n      <td>1038</td>\n      <td>1046</td>\n      <td>2</td>\n    </tr>\n    <tr>\n      <th>top</th>\n      <td>2020-08-17 19:50:04.2610</td>\n      <td>2020-08-01 15:07:32.6070</td>\n      <td>12 Ave &amp; W 40 St</td>\n      <td>West St &amp; Chambers St</td>\n      <td>Subscriber</td>\n    </tr>\n    <tr>\n      <th>freq</th>\n      <td>2</td>\n      <td>2</td>\n      <td>1420</td>\n      <td>1406</td>\n      <td>167370</td>\n    </tr>\n  </tbody>\n</table>\n</div>"
     },
     "metadata": {},
     "execution_count": 59
    }
   ],
   "source": [
    "df.describe(include = [np.object])"
   ]
  },
  {
   "cell_type": "code",
   "execution_count": 60,
   "metadata": {},
   "outputs": [
    {
     "output_type": "execute_result",
     "data": {
      "text/plain": "Subscriber    167370\nCustomer       65581\nName: usertype, dtype: int64"
     },
     "metadata": {},
     "execution_count": 60
    }
   ],
   "source": [
    "df['usertype'].value_counts()"
   ]
  },
  {
   "cell_type": "code",
   "execution_count": 47,
   "metadata": {},
   "outputs": [],
   "source": [
    "df1 = df.sample(frac=0.1)"
   ]
  },
  {
   "cell_type": "code",
   "execution_count": 48,
   "metadata": {},
   "outputs": [],
   "source": [
    "df1.to_csv('citibike.csv')"
   ]
  },
  {
   "cell_type": "code",
   "execution_count": 49,
   "metadata": {},
   "outputs": [
    {
     "output_type": "execute_result",
     "data": {
      "text/plain": "(232951, 16)"
     },
     "metadata": {},
     "execution_count": 49
    }
   ],
   "source": [
    "df1.shape"
   ]
  },
  {
   "cell_type": "code",
   "execution_count": 61,
   "metadata": {},
   "outputs": [],
   "source": [
    "df = pd.read_csv('citibike.csv')"
   ]
  },
  {
   "cell_type": "code",
   "execution_count": 64,
   "metadata": {},
   "outputs": [
    {
     "output_type": "execute_result",
     "data": {
      "text/plain": "{'Customer': [5, 12, 15, 16, 19, 24, 25, 40, 49, 50, 53, 61, 62, 65, 70, 72, 80, 81, 86, 95, 96, 99, 102, 103, 105, 107, 111, 120, 127, 130, 133, 138, 146, 154, 157, 164, 167, 168, 169, 172, 174, 176, 179, 180, 181, 182, 183, 184, 187, 189, 193, 213, 214, 217, 218, 219, 225, 230, 237, 240, 250, 254, 258, 263, 266, 269, 273, 275, 279, 280, 287, 292, 295, 300, 302, 306, 310, 311, 313, 316, 317, 318, 325, 327, 330, 331, 332, 335, 336, 337, 338, 339, 343, 346, 348, 354, 355, 358, 363, 371, ...], 'Subscriber': [0, 1, 2, 3, 4, 6, 7, 8, 9, 10, 11, 13, 14, 17, 18, 20, 21, 22, 23, 26, 27, 28, 29, 30, 31, 32, 33, 34, 35, 36, 37, 38, 39, 41, 42, 43, 44, 45, 46, 47, 48, 51, 52, 54, 55, 56, 57, 58, 59, 60, 63, 64, 66, 67, 68, 69, 71, 73, 74, 75, 76, 77, 78, 79, 82, 83, 84, 85, 87, 88, 89, 90, 91, 92, 93, 94, 97, 98, 100, 101, 104, 106, 108, 109, 110, 112, 113, 114, 115, 116, 117, 118, 119, 121, 122, 123, 124, 125, 126, 128, ...]}"
     },
     "metadata": {},
     "execution_count": 64
    }
   ],
   "source": [
    "df.groupby(['usertype']).groups"
   ]
  },
  {
   "cell_type": "code",
   "execution_count": 66,
   "metadata": {},
   "outputs": [
    {
     "output_type": "execute_result",
     "data": {
      "text/plain": "            Unnamed: 0  Unnamed: 0.1  tripduration                 starttime  \\\nusertype                                                                       \nCustomer       1582447       1582447          1057  2020-08-22 14:40:31.1300   \nSubscriber     1477479       1477479           364  2020-08-21 11:38:58.9800   \n\n                            stoptime  start station id  \\\nusertype                                                 \nCustomer    2020-08-22 14:58:08.6850               250   \nSubscriber  2020-08-21 11:45:03.3120              3256   \n\n                     start station name  start station latitude  \\\nusertype                                                          \nCustomer       Lafayette St & Jersey St               40.724561   \nSubscriber  Pier 40 - Hudson River Park               40.727714   \n\n            start station longitude  end station id        end station name  \\\nusertype                                                                      \nCustomer                 -73.995653             466         W 25 St & 6 Ave   \nSubscriber               -74.011296             247  Perry St & Bleecker St   \n\n            end station latitude  end station longitude  bikeid  birth year  \\\nusertype                                                                      \nCustomer               40.743954             -73.991449   26450        1969   \nSubscriber             40.735354             -74.004831   40604        1967   \n\n            gender  \nusertype            \nCustomer         0  \nSubscriber       1  ",
      "text/html": "<div>\n<style scoped>\n    .dataframe tbody tr th:only-of-type {\n        vertical-align: middle;\n    }\n\n    .dataframe tbody tr th {\n        vertical-align: top;\n    }\n\n    .dataframe thead th {\n        text-align: right;\n    }\n</style>\n<table border=\"1\" class=\"dataframe\">\n  <thead>\n    <tr style=\"text-align: right;\">\n      <th></th>\n      <th>Unnamed: 0</th>\n      <th>Unnamed: 0.1</th>\n      <th>tripduration</th>\n      <th>starttime</th>\n      <th>stoptime</th>\n      <th>start station id</th>\n      <th>start station name</th>\n      <th>start station latitude</th>\n      <th>start station longitude</th>\n      <th>end station id</th>\n      <th>end station name</th>\n      <th>end station latitude</th>\n      <th>end station longitude</th>\n      <th>bikeid</th>\n      <th>birth year</th>\n      <th>gender</th>\n    </tr>\n    <tr>\n      <th>usertype</th>\n      <th></th>\n      <th></th>\n      <th></th>\n      <th></th>\n      <th></th>\n      <th></th>\n      <th></th>\n      <th></th>\n      <th></th>\n      <th></th>\n      <th></th>\n      <th></th>\n      <th></th>\n      <th></th>\n      <th></th>\n      <th></th>\n    </tr>\n  </thead>\n  <tbody>\n    <tr>\n      <th>Customer</th>\n      <td>1582447</td>\n      <td>1582447</td>\n      <td>1057</td>\n      <td>2020-08-22 14:40:31.1300</td>\n      <td>2020-08-22 14:58:08.6850</td>\n      <td>250</td>\n      <td>Lafayette St &amp; Jersey St</td>\n      <td>40.724561</td>\n      <td>-73.995653</td>\n      <td>466</td>\n      <td>W 25 St &amp; 6 Ave</td>\n      <td>40.743954</td>\n      <td>-73.991449</td>\n      <td>26450</td>\n      <td>1969</td>\n      <td>0</td>\n    </tr>\n    <tr>\n      <th>Subscriber</th>\n      <td>1477479</td>\n      <td>1477479</td>\n      <td>364</td>\n      <td>2020-08-21 11:38:58.9800</td>\n      <td>2020-08-21 11:45:03.3120</td>\n      <td>3256</td>\n      <td>Pier 40 - Hudson River Park</td>\n      <td>40.727714</td>\n      <td>-74.011296</td>\n      <td>247</td>\n      <td>Perry St &amp; Bleecker St</td>\n      <td>40.735354</td>\n      <td>-74.004831</td>\n      <td>40604</td>\n      <td>1967</td>\n      <td>1</td>\n    </tr>\n  </tbody>\n</table>\n</div>"
     },
     "metadata": {},
     "execution_count": 66
    }
   ],
   "source": [
    "df.groupby(['usertype']).first()"
   ]
  },
  {
   "cell_type": "code",
   "execution_count": 69,
   "metadata": {},
   "outputs": [
    {
     "output_type": "execute_result",
     "data": {
      "text/plain": "            tripduration\nusertype                \nCustomer     2261.705982\nSubscriber   1079.851724",
      "text/html": "<div>\n<style scoped>\n    .dataframe tbody tr th:only-of-type {\n        vertical-align: middle;\n    }\n\n    .dataframe tbody tr th {\n        vertical-align: top;\n    }\n\n    .dataframe thead th {\n        text-align: right;\n    }\n</style>\n<table border=\"1\" class=\"dataframe\">\n  <thead>\n    <tr style=\"text-align: right;\">\n      <th></th>\n      <th>tripduration</th>\n    </tr>\n    <tr>\n      <th>usertype</th>\n      <th></th>\n    </tr>\n  </thead>\n  <tbody>\n    <tr>\n      <th>Customer</th>\n      <td>2261.705982</td>\n    </tr>\n    <tr>\n      <th>Subscriber</th>\n      <td>1079.851724</td>\n    </tr>\n  </tbody>\n</table>\n</div>"
     },
     "metadata": {},
     "execution_count": 69
    }
   ],
   "source": [
    "df.groupby(['usertype'])[['tripduration']].mean()"
   ]
  },
  {
   "cell_type": "code",
   "execution_count": 70,
   "metadata": {},
   "outputs": [
    {
     "output_type": "execute_result",
     "data": {
      "text/plain": "usertype\nCustomer      2261.705982\nSubscriber    1079.851724\nName: tripduration, dtype: float64"
     },
     "metadata": {},
     "execution_count": 70
    }
   ],
   "source": [
    "df.groupby(['usertype'])['tripduration'].mean()"
   ]
  },
  {
   "cell_type": "code",
   "execution_count": 72,
   "metadata": {},
   "outputs": [
    {
     "output_type": "execute_result",
     "data": {
      "text/plain": "                                         tripduration\nusertype   start station name                        \nCustomer   1 Ave & E 110 St               2431.791045\n           1 Ave & E 16 St                1148.244444\n           1 Ave & E 18 St                1210.811594\n           1 Ave & E 30 St                1117.661972\n           1 Ave & E 44 St                1427.433735\n...                                               ...\nSubscriber Wyckoff Av & Jefferson St       872.272727\n           Wyckoff Av & Stanhope St        990.360000\n           Wyckoff St & Nevins St         1045.712644\n           Wythe Ave & Metropolitan Ave   1082.858736\n           Yankee Ferry Terminal          1900.781513\n\n[2075 rows x 1 columns]",
      "text/html": "<div>\n<style scoped>\n    .dataframe tbody tr th:only-of-type {\n        vertical-align: middle;\n    }\n\n    .dataframe tbody tr th {\n        vertical-align: top;\n    }\n\n    .dataframe thead th {\n        text-align: right;\n    }\n</style>\n<table border=\"1\" class=\"dataframe\">\n  <thead>\n    <tr style=\"text-align: right;\">\n      <th></th>\n      <th></th>\n      <th>tripduration</th>\n    </tr>\n    <tr>\n      <th>usertype</th>\n      <th>start station name</th>\n      <th></th>\n    </tr>\n  </thead>\n  <tbody>\n    <tr>\n      <th rowspan=\"5\" valign=\"top\">Customer</th>\n      <th>1 Ave &amp; E 110 St</th>\n      <td>2431.791045</td>\n    </tr>\n    <tr>\n      <th>1 Ave &amp; E 16 St</th>\n      <td>1148.244444</td>\n    </tr>\n    <tr>\n      <th>1 Ave &amp; E 18 St</th>\n      <td>1210.811594</td>\n    </tr>\n    <tr>\n      <th>1 Ave &amp; E 30 St</th>\n      <td>1117.661972</td>\n    </tr>\n    <tr>\n      <th>1 Ave &amp; E 44 St</th>\n      <td>1427.433735</td>\n    </tr>\n    <tr>\n      <th>...</th>\n      <th>...</th>\n      <td>...</td>\n    </tr>\n    <tr>\n      <th rowspan=\"5\" valign=\"top\">Subscriber</th>\n      <th>Wyckoff Av &amp; Jefferson St</th>\n      <td>872.272727</td>\n    </tr>\n    <tr>\n      <th>Wyckoff Av &amp; Stanhope St</th>\n      <td>990.360000</td>\n    </tr>\n    <tr>\n      <th>Wyckoff St &amp; Nevins St</th>\n      <td>1045.712644</td>\n    </tr>\n    <tr>\n      <th>Wythe Ave &amp; Metropolitan Ave</th>\n      <td>1082.858736</td>\n    </tr>\n    <tr>\n      <th>Yankee Ferry Terminal</th>\n      <td>1900.781513</td>\n    </tr>\n  </tbody>\n</table>\n<p>2075 rows × 1 columns</p>\n</div>"
     },
     "metadata": {},
     "execution_count": 72
    }
   ],
   "source": [
    "df.groupby(['usertype', 'start station name'])[['tripduration']].mean()"
   ]
  },
  {
   "cell_type": "code",
   "execution_count": 77,
   "metadata": {},
   "outputs": [
    {
     "output_type": "execute_result",
     "data": {
      "text/plain": "           tripduration          start station name\n                    min      max              count\nusertype                                           \nCustomer             61  2404449              65581\nSubscriber           61  1865063             167370",
      "text/html": "<div>\n<style scoped>\n    .dataframe tbody tr th:only-of-type {\n        vertical-align: middle;\n    }\n\n    .dataframe tbody tr th {\n        vertical-align: top;\n    }\n\n    .dataframe thead tr th {\n        text-align: left;\n    }\n\n    .dataframe thead tr:last-of-type th {\n        text-align: right;\n    }\n</style>\n<table border=\"1\" class=\"dataframe\">\n  <thead>\n    <tr>\n      <th></th>\n      <th colspan=\"2\" halign=\"left\">tripduration</th>\n      <th>start station name</th>\n    </tr>\n    <tr>\n      <th></th>\n      <th>min</th>\n      <th>max</th>\n      <th>count</th>\n    </tr>\n    <tr>\n      <th>usertype</th>\n      <th></th>\n      <th></th>\n      <th></th>\n    </tr>\n  </thead>\n  <tbody>\n    <tr>\n      <th>Customer</th>\n      <td>61</td>\n      <td>2404449</td>\n      <td>65581</td>\n    </tr>\n    <tr>\n      <th>Subscriber</th>\n      <td>61</td>\n      <td>1865063</td>\n      <td>167370</td>\n    </tr>\n  </tbody>\n</table>\n</div>"
     },
     "metadata": {},
     "execution_count": 77
    }
   ],
   "source": [
    "df.groupby(['usertype']).aggregate({'tripduration': [min, max], 'start station name': 'count'  })"
   ]
  },
  {
   "cell_type": "code",
   "execution_count": 79,
   "metadata": {},
   "outputs": [
    {
     "output_type": "execute_result",
     "data": {
      "text/plain": "         id                            listing_url       scrape_id  \\\n0  12147973  https://www.airbnb.com/rooms/12147973  20160906204935   \n1   3075044   https://www.airbnb.com/rooms/3075044  20160906204935   \n2      6976      https://www.airbnb.com/rooms/6976  20160906204935   \n3   1436513   https://www.airbnb.com/rooms/1436513  20160906204935   \n4   7651065   https://www.airbnb.com/rooms/7651065  20160906204935   \n\n  last_scraped                                           name  \\\n0   2016-09-07                     Sunny Bungalow in the City   \n1   2016-09-07              Charming room in pet friendly apt   \n2   2016-09-07               Mexican Folk Art Haven in Boston   \n3   2016-09-07  Spacious Sunny Bedroom Suite in Historic Home   \n4   2016-09-07                            Come Home to Boston   \n\n                                             summary  \\\n0  Cozy, sunny, family home.  Master bedroom high...   \n1  Charming and quiet room in a second floor 1910...   \n2  Come stay with a friendly, middle-aged guy in ...   \n3  Come experience the comforts of home away from...   \n4  My comfy, clean and relaxing home is one block...   \n\n                                               space  \\\n0  The house has an open and cozy feel at the sam...   \n1  Small but cozy and quite room with a full size...   \n2  Come stay with a friendly, middle-aged guy in ...   \n3  Most places you find in Boston are small howev...   \n4  Clean, attractive, private room, one block fro...   \n\n                                         description experiences_offered  \\\n0  Cozy, sunny, family home.  Master bedroom high...                none   \n1  Charming and quiet room in a second floor 1910...                none   \n2  Come stay with a friendly, middle-aged guy in ...                none   \n3  Come experience the comforts of home away from...                none   \n4  My comfy, clean and relaxing home is one block...                none   \n\n                               neighborhood_overview  ... review_scores_value  \\\n0  Roslindale is quiet, convenient and friendly. ...  ...                 NaN   \n1  The room is in Roslindale, a diverse and prima...  ...                 9.0   \n2  The LOCATION: Roslindale is a safe and diverse...  ...                10.0   \n3  Roslindale is a lovely little neighborhood loc...  ...                10.0   \n4  I love the proximity to downtown, the neighbor...  ...                10.0   \n\n  requires_license license jurisdiction_names instant_bookable  \\\n0                f     NaN                NaN                f   \n1                f     NaN                NaN                t   \n2                f     NaN                NaN                f   \n3                f     NaN                NaN                f   \n4                f     NaN                NaN                f   \n\n  cancellation_policy require_guest_profile_picture  \\\n0            moderate                             f   \n1            moderate                             f   \n2            moderate                             t   \n3            moderate                             f   \n4            flexible                             f   \n\n  require_guest_phone_verification calculated_host_listings_count  \\\n0                                f                              1   \n1                                f                              1   \n2                                f                              1   \n3                                f                              1   \n4                                f                              1   \n\n   reviews_per_month  \n0                NaN  \n1               1.30  \n2               0.47  \n3               1.00  \n4               2.25  \n\n[5 rows x 95 columns]",
      "text/html": "<div>\n<style scoped>\n    .dataframe tbody tr th:only-of-type {\n        vertical-align: middle;\n    }\n\n    .dataframe tbody tr th {\n        vertical-align: top;\n    }\n\n    .dataframe thead th {\n        text-align: right;\n    }\n</style>\n<table border=\"1\" class=\"dataframe\">\n  <thead>\n    <tr style=\"text-align: right;\">\n      <th></th>\n      <th>id</th>\n      <th>listing_url</th>\n      <th>scrape_id</th>\n      <th>last_scraped</th>\n      <th>name</th>\n      <th>summary</th>\n      <th>space</th>\n      <th>description</th>\n      <th>experiences_offered</th>\n      <th>neighborhood_overview</th>\n      <th>...</th>\n      <th>review_scores_value</th>\n      <th>requires_license</th>\n      <th>license</th>\n      <th>jurisdiction_names</th>\n      <th>instant_bookable</th>\n      <th>cancellation_policy</th>\n      <th>require_guest_profile_picture</th>\n      <th>require_guest_phone_verification</th>\n      <th>calculated_host_listings_count</th>\n      <th>reviews_per_month</th>\n    </tr>\n  </thead>\n  <tbody>\n    <tr>\n      <th>0</th>\n      <td>12147973</td>\n      <td>https://www.airbnb.com/rooms/12147973</td>\n      <td>20160906204935</td>\n      <td>2016-09-07</td>\n      <td>Sunny Bungalow in the City</td>\n      <td>Cozy, sunny, family home.  Master bedroom high...</td>\n      <td>The house has an open and cozy feel at the sam...</td>\n      <td>Cozy, sunny, family home.  Master bedroom high...</td>\n      <td>none</td>\n      <td>Roslindale is quiet, convenient and friendly. ...</td>\n      <td>...</td>\n      <td>NaN</td>\n      <td>f</td>\n      <td>NaN</td>\n      <td>NaN</td>\n      <td>f</td>\n      <td>moderate</td>\n      <td>f</td>\n      <td>f</td>\n      <td>1</td>\n      <td>NaN</td>\n    </tr>\n    <tr>\n      <th>1</th>\n      <td>3075044</td>\n      <td>https://www.airbnb.com/rooms/3075044</td>\n      <td>20160906204935</td>\n      <td>2016-09-07</td>\n      <td>Charming room in pet friendly apt</td>\n      <td>Charming and quiet room in a second floor 1910...</td>\n      <td>Small but cozy and quite room with a full size...</td>\n      <td>Charming and quiet room in a second floor 1910...</td>\n      <td>none</td>\n      <td>The room is in Roslindale, a diverse and prima...</td>\n      <td>...</td>\n      <td>9.0</td>\n      <td>f</td>\n      <td>NaN</td>\n      <td>NaN</td>\n      <td>t</td>\n      <td>moderate</td>\n      <td>f</td>\n      <td>f</td>\n      <td>1</td>\n      <td>1.30</td>\n    </tr>\n    <tr>\n      <th>2</th>\n      <td>6976</td>\n      <td>https://www.airbnb.com/rooms/6976</td>\n      <td>20160906204935</td>\n      <td>2016-09-07</td>\n      <td>Mexican Folk Art Haven in Boston</td>\n      <td>Come stay with a friendly, middle-aged guy in ...</td>\n      <td>Come stay with a friendly, middle-aged guy in ...</td>\n      <td>Come stay with a friendly, middle-aged guy in ...</td>\n      <td>none</td>\n      <td>The LOCATION: Roslindale is a safe and diverse...</td>\n      <td>...</td>\n      <td>10.0</td>\n      <td>f</td>\n      <td>NaN</td>\n      <td>NaN</td>\n      <td>f</td>\n      <td>moderate</td>\n      <td>t</td>\n      <td>f</td>\n      <td>1</td>\n      <td>0.47</td>\n    </tr>\n    <tr>\n      <th>3</th>\n      <td>1436513</td>\n      <td>https://www.airbnb.com/rooms/1436513</td>\n      <td>20160906204935</td>\n      <td>2016-09-07</td>\n      <td>Spacious Sunny Bedroom Suite in Historic Home</td>\n      <td>Come experience the comforts of home away from...</td>\n      <td>Most places you find in Boston are small howev...</td>\n      <td>Come experience the comforts of home away from...</td>\n      <td>none</td>\n      <td>Roslindale is a lovely little neighborhood loc...</td>\n      <td>...</td>\n      <td>10.0</td>\n      <td>f</td>\n      <td>NaN</td>\n      <td>NaN</td>\n      <td>f</td>\n      <td>moderate</td>\n      <td>f</td>\n      <td>f</td>\n      <td>1</td>\n      <td>1.00</td>\n    </tr>\n    <tr>\n      <th>4</th>\n      <td>7651065</td>\n      <td>https://www.airbnb.com/rooms/7651065</td>\n      <td>20160906204935</td>\n      <td>2016-09-07</td>\n      <td>Come Home to Boston</td>\n      <td>My comfy, clean and relaxing home is one block...</td>\n      <td>Clean, attractive, private room, one block fro...</td>\n      <td>My comfy, clean and relaxing home is one block...</td>\n      <td>none</td>\n      <td>I love the proximity to downtown, the neighbor...</td>\n      <td>...</td>\n      <td>10.0</td>\n      <td>f</td>\n      <td>NaN</td>\n      <td>NaN</td>\n      <td>f</td>\n      <td>flexible</td>\n      <td>f</td>\n      <td>f</td>\n      <td>1</td>\n      <td>2.25</td>\n    </tr>\n  </tbody>\n</table>\n<p>5 rows × 95 columns</p>\n</div>"
     },
     "metadata": {},
     "execution_count": 79
    }
   ],
   "source": [
    "listings = pd.read_csv('listings.csv')\n",
    "listings.head()"
   ]
  },
  {
   "cell_type": "code",
   "execution_count": 80,
   "metadata": {},
   "outputs": [
    {
     "output_type": "execute_result",
     "data": {
      "text/plain": "   listing_id        date available price\n0    12147973  2017-09-05         f   NaN\n1    12147973  2017-09-04         f   NaN\n2    12147973  2017-09-03         f   NaN\n3    12147973  2017-09-02         f   NaN\n4    12147973  2017-09-01         f   NaN",
      "text/html": "<div>\n<style scoped>\n    .dataframe tbody tr th:only-of-type {\n        vertical-align: middle;\n    }\n\n    .dataframe tbody tr th {\n        vertical-align: top;\n    }\n\n    .dataframe thead th {\n        text-align: right;\n    }\n</style>\n<table border=\"1\" class=\"dataframe\">\n  <thead>\n    <tr style=\"text-align: right;\">\n      <th></th>\n      <th>listing_id</th>\n      <th>date</th>\n      <th>available</th>\n      <th>price</th>\n    </tr>\n  </thead>\n  <tbody>\n    <tr>\n      <th>0</th>\n      <td>12147973</td>\n      <td>2017-09-05</td>\n      <td>f</td>\n      <td>NaN</td>\n    </tr>\n    <tr>\n      <th>1</th>\n      <td>12147973</td>\n      <td>2017-09-04</td>\n      <td>f</td>\n      <td>NaN</td>\n    </tr>\n    <tr>\n      <th>2</th>\n      <td>12147973</td>\n      <td>2017-09-03</td>\n      <td>f</td>\n      <td>NaN</td>\n    </tr>\n    <tr>\n      <th>3</th>\n      <td>12147973</td>\n      <td>2017-09-02</td>\n      <td>f</td>\n      <td>NaN</td>\n    </tr>\n    <tr>\n      <th>4</th>\n      <td>12147973</td>\n      <td>2017-09-01</td>\n      <td>f</td>\n      <td>NaN</td>\n    </tr>\n  </tbody>\n</table>\n</div>"
     },
     "metadata": {},
     "execution_count": 80
    }
   ],
   "source": [
    "calendar = pd.read_csv('calendar.csv')\n",
    "calendar.head()"
   ]
  },
  {
   "cell_type": "code",
   "execution_count": 82,
   "metadata": {},
   "outputs": [
    {
     "output_type": "execute_result",
     "data": {
      "text/plain": "   listing_id       id        date  reviewer_id reviewer_name  \\\n0     1178162  4724140  2013-05-21      4298113       Olivier   \n1     1178162  4869189  2013-05-29      6452964     Charlotte   \n2     1178162  5003196  2013-06-06      6449554     Sebastian   \n3     1178162  5150351  2013-06-15      2215611        Marine   \n4     1178162  5171140  2013-06-16      6848427        Andrew   \n\n                                            comments  \n0  My stay at islam's place was really cool! Good...  \n1  Great location for both airport and city - gre...  \n2  We really enjoyed our stay at Islams house. Fr...  \n3  The room was nice and clean and so were the co...  \n4  Great location. Just 5 mins walk from the Airp...  ",
      "text/html": "<div>\n<style scoped>\n    .dataframe tbody tr th:only-of-type {\n        vertical-align: middle;\n    }\n\n    .dataframe tbody tr th {\n        vertical-align: top;\n    }\n\n    .dataframe thead th {\n        text-align: right;\n    }\n</style>\n<table border=\"1\" class=\"dataframe\">\n  <thead>\n    <tr style=\"text-align: right;\">\n      <th></th>\n      <th>listing_id</th>\n      <th>id</th>\n      <th>date</th>\n      <th>reviewer_id</th>\n      <th>reviewer_name</th>\n      <th>comments</th>\n    </tr>\n  </thead>\n  <tbody>\n    <tr>\n      <th>0</th>\n      <td>1178162</td>\n      <td>4724140</td>\n      <td>2013-05-21</td>\n      <td>4298113</td>\n      <td>Olivier</td>\n      <td>My stay at islam's place was really cool! Good...</td>\n    </tr>\n    <tr>\n      <th>1</th>\n      <td>1178162</td>\n      <td>4869189</td>\n      <td>2013-05-29</td>\n      <td>6452964</td>\n      <td>Charlotte</td>\n      <td>Great location for both airport and city - gre...</td>\n    </tr>\n    <tr>\n      <th>2</th>\n      <td>1178162</td>\n      <td>5003196</td>\n      <td>2013-06-06</td>\n      <td>6449554</td>\n      <td>Sebastian</td>\n      <td>We really enjoyed our stay at Islams house. Fr...</td>\n    </tr>\n    <tr>\n      <th>3</th>\n      <td>1178162</td>\n      <td>5150351</td>\n      <td>2013-06-15</td>\n      <td>2215611</td>\n      <td>Marine</td>\n      <td>The room was nice and clean and so were the co...</td>\n    </tr>\n    <tr>\n      <th>4</th>\n      <td>1178162</td>\n      <td>5171140</td>\n      <td>2013-06-16</td>\n      <td>6848427</td>\n      <td>Andrew</td>\n      <td>Great location. Just 5 mins walk from the Airp...</td>\n    </tr>\n  </tbody>\n</table>\n</div>"
     },
     "metadata": {},
     "execution_count": 82
    }
   ],
   "source": [
    "reviews = pd.read_csv('reviews.csv')\n",
    "reviews.head()"
   ]
  },
  {
   "cell_type": "code",
   "execution_count": 85,
   "metadata": {},
   "outputs": [
    {
     "output_type": "execute_result",
     "data": {
      "text/plain": "           id_x                            listing_url       scrape_id  \\\n0       3075044   https://www.airbnb.com/rooms/3075044  20160906204935   \n1       3075044   https://www.airbnb.com/rooms/3075044  20160906204935   \n2       3075044   https://www.airbnb.com/rooms/3075044  20160906204935   \n3       3075044   https://www.airbnb.com/rooms/3075044  20160906204935   \n4       3075044   https://www.airbnb.com/rooms/3075044  20160906204935   \n...         ...                                    ...             ...   \n68270   8373729   https://www.airbnb.com/rooms/8373729  20160906204935   \n68271   8373729   https://www.airbnb.com/rooms/8373729  20160906204935   \n68272   8373729   https://www.airbnb.com/rooms/8373729  20160906204935   \n68273  14603878  https://www.airbnb.com/rooms/14603878  20160906204935   \n68274  14603878  https://www.airbnb.com/rooms/14603878  20160906204935   \n\n      last_scraped                                   name  \\\n0       2016-09-07      Charming room in pet friendly apt   \n1       2016-09-07      Charming room in pet friendly apt   \n2       2016-09-07      Charming room in pet friendly apt   \n3       2016-09-07      Charming room in pet friendly apt   \n4       2016-09-07      Charming room in pet friendly apt   \n...            ...                                    ...   \n68270   2016-09-07                   Big cozy room near T   \n68271   2016-09-07                   Big cozy room near T   \n68272   2016-09-07                   Big cozy room near T   \n68273   2016-09-07  Great Location; Train and Restaurants   \n68274   2016-09-07  Great Location; Train and Restaurants   \n\n                                                 summary  \\\n0      Charming and quiet room in a second floor 1910...   \n1      Charming and quiet room in a second floor 1910...   \n2      Charming and quiet room in a second floor 1910...   \n3      Charming and quiet room in a second floor 1910...   \n4      Charming and quiet room in a second floor 1910...   \n...                                                  ...   \n68270  5 min walking to Orange Line subway with 2 sto...   \n68271  5 min walking to Orange Line subway with 2 sto...   \n68272  5 min walking to Orange Line subway with 2 sto...   \n68273  My place is close to Taco Loco Mexican Grill, ...   \n68274  My place is close to Taco Loco Mexican Grill, ...   \n\n                                                   space  \\\n0      Small but cozy and quite room with a full size...   \n1      Small but cozy and quite room with a full size...   \n2      Small but cozy and quite room with a full size...   \n3      Small but cozy and quite room with a full size...   \n4      Small but cozy and quite room with a full size...   \n...                                                  ...   \n68270                                                NaN   \n68271                                                NaN   \n68272                                                NaN   \n68273                                                NaN   \n68274                                                NaN   \n\n                                             description experiences_offered  \\\n0      Charming and quiet room in a second floor 1910...                none   \n1      Charming and quiet room in a second floor 1910...                none   \n2      Charming and quiet room in a second floor 1910...                none   \n3      Charming and quiet room in a second floor 1910...                none   \n4      Charming and quiet room in a second floor 1910...                none   \n...                                                  ...                 ...   \n68270  5 min walking to Orange Line subway with 2 sto...                none   \n68271  5 min walking to Orange Line subway with 2 sto...                none   \n68272  5 min walking to Orange Line subway with 2 sto...                none   \n68273  My place is close to Taco Loco Mexican Grill, ...                none   \n68274  My place is close to Taco Loco Mexican Grill, ...                none   \n\n                                   neighborhood_overview  ...  \\\n0      The room is in Roslindale, a diverse and prima...  ...   \n1      The room is in Roslindale, a diverse and prima...  ...   \n2      The room is in Roslindale, a diverse and prima...  ...   \n3      The room is in Roslindale, a diverse and prima...  ...   \n4      The room is in Roslindale, a diverse and prima...  ...   \n...                                                  ...  ...   \n68270                                                NaN  ...   \n68271                                                NaN  ...   \n68272                                                NaN  ...   \n68273                                                NaN  ...   \n68274                                                NaN  ...   \n\n      require_guest_phone_verification calculated_host_listings_count  \\\n0                                    f                              1   \n1                                    f                              1   \n2                                    f                              1   \n3                                    f                              1   \n4                                    f                              1   \n...                                ...                            ...   \n68270                                f                              8   \n68271                                f                              8   \n68272                                f                              8   \n68273                                f                              1   \n68274                                f                              1   \n\n      reviews_per_month listing_id      id_y        date reviewer_id  \\\n0                  1.30    3075044  13631717  2014-06-01     9645972   \n1                  1.30    3075044  13866662  2014-06-06    12020681   \n2                  1.30    3075044  14990373  2014-06-30     8165047   \n3                  1.30    3075044  19807601  2014-09-18    21319433   \n4                  1.30    3075044  20322887  2014-09-27    21706950   \n...                 ...        ...       ...         ...         ...   \n68270              0.34    8373729  56653411  2015-12-15     2026323   \n68271              0.34    8373729  56988524  2015-12-20    22169560   \n68272              0.34    8373729  97439523  2016-08-27    90807364   \n68273              2.00   14603878  97541584  2016-08-27    40987363   \n68274              2.00   14603878  99363053  2016-09-04     2403426   \n\n      reviewer_name                                           comments  _merge  \n0           Dmitrii  Andrea is a great host. Neighborhood is wonder...    both  \n1             Paola  We had a great time at Andrea's place. He is v...    both  \n2            Jaydee  Adrea was very welcoming and flexible to our n...    both  \n3           Anthony  Andrea made us feel welcome because he made th...    both  \n4             Xinny  Me and my friend were so happy about Andrea's ...    both  \n...             ...                                                ...     ...  \n68270        Kurosh  Easy in and out.  Last second request and all ...    both  \n68271         Laura  Joe runs his airbnb rooms a bit like a motel -...    both  \n68272          Hans  As advertized, the room is big, nice and cozy....    both  \n68273        Mohsen  Medi is an attentive guy with a positive attit...    both  \n68274          Dina  Medi was very welcoming and easy to communicat...    both  \n\n[68275 rows x 102 columns]",
      "text/html": "<div>\n<style scoped>\n    .dataframe tbody tr th:only-of-type {\n        vertical-align: middle;\n    }\n\n    .dataframe tbody tr th {\n        vertical-align: top;\n    }\n\n    .dataframe thead th {\n        text-align: right;\n    }\n</style>\n<table border=\"1\" class=\"dataframe\">\n  <thead>\n    <tr style=\"text-align: right;\">\n      <th></th>\n      <th>id_x</th>\n      <th>listing_url</th>\n      <th>scrape_id</th>\n      <th>last_scraped</th>\n      <th>name</th>\n      <th>summary</th>\n      <th>space</th>\n      <th>description</th>\n      <th>experiences_offered</th>\n      <th>neighborhood_overview</th>\n      <th>...</th>\n      <th>require_guest_phone_verification</th>\n      <th>calculated_host_listings_count</th>\n      <th>reviews_per_month</th>\n      <th>listing_id</th>\n      <th>id_y</th>\n      <th>date</th>\n      <th>reviewer_id</th>\n      <th>reviewer_name</th>\n      <th>comments</th>\n      <th>_merge</th>\n    </tr>\n  </thead>\n  <tbody>\n    <tr>\n      <th>0</th>\n      <td>3075044</td>\n      <td>https://www.airbnb.com/rooms/3075044</td>\n      <td>20160906204935</td>\n      <td>2016-09-07</td>\n      <td>Charming room in pet friendly apt</td>\n      <td>Charming and quiet room in a second floor 1910...</td>\n      <td>Small but cozy and quite room with a full size...</td>\n      <td>Charming and quiet room in a second floor 1910...</td>\n      <td>none</td>\n      <td>The room is in Roslindale, a diverse and prima...</td>\n      <td>...</td>\n      <td>f</td>\n      <td>1</td>\n      <td>1.30</td>\n      <td>3075044</td>\n      <td>13631717</td>\n      <td>2014-06-01</td>\n      <td>9645972</td>\n      <td>Dmitrii</td>\n      <td>Andrea is a great host. Neighborhood is wonder...</td>\n      <td>both</td>\n    </tr>\n    <tr>\n      <th>1</th>\n      <td>3075044</td>\n      <td>https://www.airbnb.com/rooms/3075044</td>\n      <td>20160906204935</td>\n      <td>2016-09-07</td>\n      <td>Charming room in pet friendly apt</td>\n      <td>Charming and quiet room in a second floor 1910...</td>\n      <td>Small but cozy and quite room with a full size...</td>\n      <td>Charming and quiet room in a second floor 1910...</td>\n      <td>none</td>\n      <td>The room is in Roslindale, a diverse and prima...</td>\n      <td>...</td>\n      <td>f</td>\n      <td>1</td>\n      <td>1.30</td>\n      <td>3075044</td>\n      <td>13866662</td>\n      <td>2014-06-06</td>\n      <td>12020681</td>\n      <td>Paola</td>\n      <td>We had a great time at Andrea's place. He is v...</td>\n      <td>both</td>\n    </tr>\n    <tr>\n      <th>2</th>\n      <td>3075044</td>\n      <td>https://www.airbnb.com/rooms/3075044</td>\n      <td>20160906204935</td>\n      <td>2016-09-07</td>\n      <td>Charming room in pet friendly apt</td>\n      <td>Charming and quiet room in a second floor 1910...</td>\n      <td>Small but cozy and quite room with a full size...</td>\n      <td>Charming and quiet room in a second floor 1910...</td>\n      <td>none</td>\n      <td>The room is in Roslindale, a diverse and prima...</td>\n      <td>...</td>\n      <td>f</td>\n      <td>1</td>\n      <td>1.30</td>\n      <td>3075044</td>\n      <td>14990373</td>\n      <td>2014-06-30</td>\n      <td>8165047</td>\n      <td>Jaydee</td>\n      <td>Adrea was very welcoming and flexible to our n...</td>\n      <td>both</td>\n    </tr>\n    <tr>\n      <th>3</th>\n      <td>3075044</td>\n      <td>https://www.airbnb.com/rooms/3075044</td>\n      <td>20160906204935</td>\n      <td>2016-09-07</td>\n      <td>Charming room in pet friendly apt</td>\n      <td>Charming and quiet room in a second floor 1910...</td>\n      <td>Small but cozy and quite room with a full size...</td>\n      <td>Charming and quiet room in a second floor 1910...</td>\n      <td>none</td>\n      <td>The room is in Roslindale, a diverse and prima...</td>\n      <td>...</td>\n      <td>f</td>\n      <td>1</td>\n      <td>1.30</td>\n      <td>3075044</td>\n      <td>19807601</td>\n      <td>2014-09-18</td>\n      <td>21319433</td>\n      <td>Anthony</td>\n      <td>Andrea made us feel welcome because he made th...</td>\n      <td>both</td>\n    </tr>\n    <tr>\n      <th>4</th>\n      <td>3075044</td>\n      <td>https://www.airbnb.com/rooms/3075044</td>\n      <td>20160906204935</td>\n      <td>2016-09-07</td>\n      <td>Charming room in pet friendly apt</td>\n      <td>Charming and quiet room in a second floor 1910...</td>\n      <td>Small but cozy and quite room with a full size...</td>\n      <td>Charming and quiet room in a second floor 1910...</td>\n      <td>none</td>\n      <td>The room is in Roslindale, a diverse and prima...</td>\n      <td>...</td>\n      <td>f</td>\n      <td>1</td>\n      <td>1.30</td>\n      <td>3075044</td>\n      <td>20322887</td>\n      <td>2014-09-27</td>\n      <td>21706950</td>\n      <td>Xinny</td>\n      <td>Me and my friend were so happy about Andrea's ...</td>\n      <td>both</td>\n    </tr>\n    <tr>\n      <th>...</th>\n      <td>...</td>\n      <td>...</td>\n      <td>...</td>\n      <td>...</td>\n      <td>...</td>\n      <td>...</td>\n      <td>...</td>\n      <td>...</td>\n      <td>...</td>\n      <td>...</td>\n      <td>...</td>\n      <td>...</td>\n      <td>...</td>\n      <td>...</td>\n      <td>...</td>\n      <td>...</td>\n      <td>...</td>\n      <td>...</td>\n      <td>...</td>\n      <td>...</td>\n      <td>...</td>\n    </tr>\n    <tr>\n      <th>68270</th>\n      <td>8373729</td>\n      <td>https://www.airbnb.com/rooms/8373729</td>\n      <td>20160906204935</td>\n      <td>2016-09-07</td>\n      <td>Big cozy room near T</td>\n      <td>5 min walking to Orange Line subway with 2 sto...</td>\n      <td>NaN</td>\n      <td>5 min walking to Orange Line subway with 2 sto...</td>\n      <td>none</td>\n      <td>NaN</td>\n      <td>...</td>\n      <td>f</td>\n      <td>8</td>\n      <td>0.34</td>\n      <td>8373729</td>\n      <td>56653411</td>\n      <td>2015-12-15</td>\n      <td>2026323</td>\n      <td>Kurosh</td>\n      <td>Easy in and out.  Last second request and all ...</td>\n      <td>both</td>\n    </tr>\n    <tr>\n      <th>68271</th>\n      <td>8373729</td>\n      <td>https://www.airbnb.com/rooms/8373729</td>\n      <td>20160906204935</td>\n      <td>2016-09-07</td>\n      <td>Big cozy room near T</td>\n      <td>5 min walking to Orange Line subway with 2 sto...</td>\n      <td>NaN</td>\n      <td>5 min walking to Orange Line subway with 2 sto...</td>\n      <td>none</td>\n      <td>NaN</td>\n      <td>...</td>\n      <td>f</td>\n      <td>8</td>\n      <td>0.34</td>\n      <td>8373729</td>\n      <td>56988524</td>\n      <td>2015-12-20</td>\n      <td>22169560</td>\n      <td>Laura</td>\n      <td>Joe runs his airbnb rooms a bit like a motel -...</td>\n      <td>both</td>\n    </tr>\n    <tr>\n      <th>68272</th>\n      <td>8373729</td>\n      <td>https://www.airbnb.com/rooms/8373729</td>\n      <td>20160906204935</td>\n      <td>2016-09-07</td>\n      <td>Big cozy room near T</td>\n      <td>5 min walking to Orange Line subway with 2 sto...</td>\n      <td>NaN</td>\n      <td>5 min walking to Orange Line subway with 2 sto...</td>\n      <td>none</td>\n      <td>NaN</td>\n      <td>...</td>\n      <td>f</td>\n      <td>8</td>\n      <td>0.34</td>\n      <td>8373729</td>\n      <td>97439523</td>\n      <td>2016-08-27</td>\n      <td>90807364</td>\n      <td>Hans</td>\n      <td>As advertized, the room is big, nice and cozy....</td>\n      <td>both</td>\n    </tr>\n    <tr>\n      <th>68273</th>\n      <td>14603878</td>\n      <td>https://www.airbnb.com/rooms/14603878</td>\n      <td>20160906204935</td>\n      <td>2016-09-07</td>\n      <td>Great Location; Train and Restaurants</td>\n      <td>My place is close to Taco Loco Mexican Grill, ...</td>\n      <td>NaN</td>\n      <td>My place is close to Taco Loco Mexican Grill, ...</td>\n      <td>none</td>\n      <td>NaN</td>\n      <td>...</td>\n      <td>f</td>\n      <td>1</td>\n      <td>2.00</td>\n      <td>14603878</td>\n      <td>97541584</td>\n      <td>2016-08-27</td>\n      <td>40987363</td>\n      <td>Mohsen</td>\n      <td>Medi is an attentive guy with a positive attit...</td>\n      <td>both</td>\n    </tr>\n    <tr>\n      <th>68274</th>\n      <td>14603878</td>\n      <td>https://www.airbnb.com/rooms/14603878</td>\n      <td>20160906204935</td>\n      <td>2016-09-07</td>\n      <td>Great Location; Train and Restaurants</td>\n      <td>My place is close to Taco Loco Mexican Grill, ...</td>\n      <td>NaN</td>\n      <td>My place is close to Taco Loco Mexican Grill, ...</td>\n      <td>none</td>\n      <td>NaN</td>\n      <td>...</td>\n      <td>f</td>\n      <td>1</td>\n      <td>2.00</td>\n      <td>14603878</td>\n      <td>99363053</td>\n      <td>2016-09-04</td>\n      <td>2403426</td>\n      <td>Dina</td>\n      <td>Medi was very welcoming and easy to communicat...</td>\n      <td>both</td>\n    </tr>\n  </tbody>\n</table>\n<p>68275 rows × 102 columns</p>\n</div>"
     },
     "metadata": {},
     "execution_count": 85
    }
   ],
   "source": [
    "pd.merge(listings, reviews, left_on = ['id'], right_on = ['listing_id'], indicator=True)"
   ]
  },
  {
   "cell_type": "code",
   "execution_count": 86,
   "metadata": {},
   "outputs": [],
   "source": [
    "calendar.set_index('listing_id', inplace=True)"
   ]
  },
  {
   "cell_type": "code",
   "execution_count": 87,
   "metadata": {},
   "outputs": [],
   "source": [
    "reviews.set_index('listing_id', inplace=True)"
   ]
  },
  {
   "cell_type": "code",
   "execution_count": 88,
   "metadata": {},
   "outputs": [
    {
     "output_type": "execute_result",
     "data": {
      "text/plain": "           datelisting_id available   price        id datelisting_id  \\\nlisting_id                                                             \n3353           2017-09-05         t  $36.00    1749.0     2009-04-23   \n3353           2017-09-05         t  $36.00  609932.0     2011-10-08   \n3353           2017-09-05         t  $36.00  633836.0     2011-10-16   \n3353           2017-09-05         t  $36.00  659093.0     2011-10-24   \n3353           2017-09-05         t  $36.00  758999.0     2011-12-02   \n...                   ...       ...     ...       ...            ...   \n14933461       2016-09-10         f     NaN       NaN            NaN   \n14933461       2016-09-09         f     NaN       NaN            NaN   \n14933461       2016-09-08         f     NaN       NaN            NaN   \n14933461       2016-09-07         f     NaN       NaN            NaN   \n14933461       2016-09-06         f     NaN       NaN            NaN   \n\n            reviewer_id reviewer_name  \\\nlisting_id                              \n3353            12970.0         Clint   \n3353           506247.0  Eugene Yijin   \n3353          1027592.0           Leo   \n3353          1196424.0       Cynthia   \n3353          1282723.0          Rick   \n...                 ...           ...   \n14933461            NaN           NaN   \n14933461            NaN           NaN   \n14933461            NaN           NaN   \n14933461            NaN           NaN   \n14933461            NaN           NaN   \n\n                                                     comments  \nlisting_id                                                     \n3353          Very friendly and helpful. Convenient location.  \n3353        The location is great as it's right next to th...  \n3353        Giueseppe was cordial, friendly, nice ... and ...  \n3353        Good host, as well as his roommates (special t...  \n3353        The apartment is right in the middle of everyt...  \n...                                                       ...  \n14933461                                                  NaN  \n14933461                                                  NaN  \n14933461                                                  NaN  \n14933461                                                  NaN  \n14933461                                                  NaN  \n\n[25196680 rows x 8 columns]",
      "text/html": "<div>\n<style scoped>\n    .dataframe tbody tr th:only-of-type {\n        vertical-align: middle;\n    }\n\n    .dataframe tbody tr th {\n        vertical-align: top;\n    }\n\n    .dataframe thead th {\n        text-align: right;\n    }\n</style>\n<table border=\"1\" class=\"dataframe\">\n  <thead>\n    <tr style=\"text-align: right;\">\n      <th></th>\n      <th>datelisting_id</th>\n      <th>available</th>\n      <th>price</th>\n      <th>id</th>\n      <th>datelisting_id</th>\n      <th>reviewer_id</th>\n      <th>reviewer_name</th>\n      <th>comments</th>\n    </tr>\n    <tr>\n      <th>listing_id</th>\n      <th></th>\n      <th></th>\n      <th></th>\n      <th></th>\n      <th></th>\n      <th></th>\n      <th></th>\n      <th></th>\n    </tr>\n  </thead>\n  <tbody>\n    <tr>\n      <th>3353</th>\n      <td>2017-09-05</td>\n      <td>t</td>\n      <td>$36.00</td>\n      <td>1749.0</td>\n      <td>2009-04-23</td>\n      <td>12970.0</td>\n      <td>Clint</td>\n      <td>Very friendly and helpful. Convenient location.</td>\n    </tr>\n    <tr>\n      <th>3353</th>\n      <td>2017-09-05</td>\n      <td>t</td>\n      <td>$36.00</td>\n      <td>609932.0</td>\n      <td>2011-10-08</td>\n      <td>506247.0</td>\n      <td>Eugene Yijin</td>\n      <td>The location is great as it's right next to th...</td>\n    </tr>\n    <tr>\n      <th>3353</th>\n      <td>2017-09-05</td>\n      <td>t</td>\n      <td>$36.00</td>\n      <td>633836.0</td>\n      <td>2011-10-16</td>\n      <td>1027592.0</td>\n      <td>Leo</td>\n      <td>Giueseppe was cordial, friendly, nice ... and ...</td>\n    </tr>\n    <tr>\n      <th>3353</th>\n      <td>2017-09-05</td>\n      <td>t</td>\n      <td>$36.00</td>\n      <td>659093.0</td>\n      <td>2011-10-24</td>\n      <td>1196424.0</td>\n      <td>Cynthia</td>\n      <td>Good host, as well as his roommates (special t...</td>\n    </tr>\n    <tr>\n      <th>3353</th>\n      <td>2017-09-05</td>\n      <td>t</td>\n      <td>$36.00</td>\n      <td>758999.0</td>\n      <td>2011-12-02</td>\n      <td>1282723.0</td>\n      <td>Rick</td>\n      <td>The apartment is right in the middle of everyt...</td>\n    </tr>\n    <tr>\n      <th>...</th>\n      <td>...</td>\n      <td>...</td>\n      <td>...</td>\n      <td>...</td>\n      <td>...</td>\n      <td>...</td>\n      <td>...</td>\n      <td>...</td>\n    </tr>\n    <tr>\n      <th>14933461</th>\n      <td>2016-09-10</td>\n      <td>f</td>\n      <td>NaN</td>\n      <td>NaN</td>\n      <td>NaN</td>\n      <td>NaN</td>\n      <td>NaN</td>\n      <td>NaN</td>\n    </tr>\n    <tr>\n      <th>14933461</th>\n      <td>2016-09-09</td>\n      <td>f</td>\n      <td>NaN</td>\n      <td>NaN</td>\n      <td>NaN</td>\n      <td>NaN</td>\n      <td>NaN</td>\n      <td>NaN</td>\n    </tr>\n    <tr>\n      <th>14933461</th>\n      <td>2016-09-08</td>\n      <td>f</td>\n      <td>NaN</td>\n      <td>NaN</td>\n      <td>NaN</td>\n      <td>NaN</td>\n      <td>NaN</td>\n      <td>NaN</td>\n    </tr>\n    <tr>\n      <th>14933461</th>\n      <td>2016-09-07</td>\n      <td>f</td>\n      <td>NaN</td>\n      <td>NaN</td>\n      <td>NaN</td>\n      <td>NaN</td>\n      <td>NaN</td>\n      <td>NaN</td>\n    </tr>\n    <tr>\n      <th>14933461</th>\n      <td>2016-09-06</td>\n      <td>f</td>\n      <td>NaN</td>\n      <td>NaN</td>\n      <td>NaN</td>\n      <td>NaN</td>\n      <td>NaN</td>\n      <td>NaN</td>\n    </tr>\n  </tbody>\n</table>\n<p>25196680 rows × 8 columns</p>\n</div>"
     },
     "metadata": {},
     "execution_count": 88
    }
   ],
   "source": [
    "calendar.join(reviews, lsuffix='listing_id', rsuffix='listing_id')"
   ]
  },
  {
   "cell_type": "code",
   "execution_count": 89,
   "metadata": {},
   "outputs": [
    {
     "output_type": "execute_result",
     "data": {
      "text/plain": "   Unnamed: 0  Unnamed: 0.1  tripduration                 starttime  \\\n0     1477479       1477479           364  2020-08-21 11:38:58.9800   \n1      507762        507762           810  2020-08-08 11:18:09.5230   \n2      163825        163825           777  2020-08-03 07:30:34.7530   \n3     1553295       1553295          1780  2020-08-22 09:47:37.5210   \n4       14003         14003          1618  2020-08-01 10:19:34.6720   \n\n                   stoptime  start station id           start station name  \\\n0  2020-08-21 11:45:03.3120              3256  Pier 40 - Hudson River Park   \n1  2020-08-08 11:31:39.8530               423              W 54 St & 9 Ave   \n2  2020-08-03 07:43:32.6410               426        West St & Chambers St   \n3  2020-08-22 10:17:18.0020              3582     Lincoln Pl & Classon Ave   \n4  2020-08-01 10:46:32.7400               247       Perry St & Bleecker St   \n\n   start station latitude  start station longitude  end station id  \\\n0               40.727714               -74.011296             247   \n1               40.765849               -73.986905            3641   \n2               40.717548               -74.013221             284   \n3               40.672168               -73.960900             473   \n4               40.735354               -74.004831             228   \n\n             end station name  end station latitude  end station longitude  \\\n0      Perry St & Bleecker St             40.735354             -74.004831   \n1          Broadway & W 25 St             40.742869             -73.989186   \n2       Greenwich Ave & 8 Ave             40.739017             -74.002638   \n3  Rivington St & Chrystie St             40.721101             -73.991925   \n4             E 48 St & 3 Ave             40.754601             -73.971879   \n\n   bikeid    usertype  birth year  gender  \n0   40604  Subscriber        1967       1  \n1   44864  Subscriber        1973       2  \n2   45074  Subscriber        1985       1  \n3   42629  Subscriber        1988       2  \n4   41958  Subscriber        1988       1  ",
      "text/html": "<div>\n<style scoped>\n    .dataframe tbody tr th:only-of-type {\n        vertical-align: middle;\n    }\n\n    .dataframe tbody tr th {\n        vertical-align: top;\n    }\n\n    .dataframe thead th {\n        text-align: right;\n    }\n</style>\n<table border=\"1\" class=\"dataframe\">\n  <thead>\n    <tr style=\"text-align: right;\">\n      <th></th>\n      <th>Unnamed: 0</th>\n      <th>Unnamed: 0.1</th>\n      <th>tripduration</th>\n      <th>starttime</th>\n      <th>stoptime</th>\n      <th>start station id</th>\n      <th>start station name</th>\n      <th>start station latitude</th>\n      <th>start station longitude</th>\n      <th>end station id</th>\n      <th>end station name</th>\n      <th>end station latitude</th>\n      <th>end station longitude</th>\n      <th>bikeid</th>\n      <th>usertype</th>\n      <th>birth year</th>\n      <th>gender</th>\n    </tr>\n  </thead>\n  <tbody>\n    <tr>\n      <th>0</th>\n      <td>1477479</td>\n      <td>1477479</td>\n      <td>364</td>\n      <td>2020-08-21 11:38:58.9800</td>\n      <td>2020-08-21 11:45:03.3120</td>\n      <td>3256</td>\n      <td>Pier 40 - Hudson River Park</td>\n      <td>40.727714</td>\n      <td>-74.011296</td>\n      <td>247</td>\n      <td>Perry St &amp; Bleecker St</td>\n      <td>40.735354</td>\n      <td>-74.004831</td>\n      <td>40604</td>\n      <td>Subscriber</td>\n      <td>1967</td>\n      <td>1</td>\n    </tr>\n    <tr>\n      <th>1</th>\n      <td>507762</td>\n      <td>507762</td>\n      <td>810</td>\n      <td>2020-08-08 11:18:09.5230</td>\n      <td>2020-08-08 11:31:39.8530</td>\n      <td>423</td>\n      <td>W 54 St &amp; 9 Ave</td>\n      <td>40.765849</td>\n      <td>-73.986905</td>\n      <td>3641</td>\n      <td>Broadway &amp; W 25 St</td>\n      <td>40.742869</td>\n      <td>-73.989186</td>\n      <td>44864</td>\n      <td>Subscriber</td>\n      <td>1973</td>\n      <td>2</td>\n    </tr>\n    <tr>\n      <th>2</th>\n      <td>163825</td>\n      <td>163825</td>\n      <td>777</td>\n      <td>2020-08-03 07:30:34.7530</td>\n      <td>2020-08-03 07:43:32.6410</td>\n      <td>426</td>\n      <td>West St &amp; Chambers St</td>\n      <td>40.717548</td>\n      <td>-74.013221</td>\n      <td>284</td>\n      <td>Greenwich Ave &amp; 8 Ave</td>\n      <td>40.739017</td>\n      <td>-74.002638</td>\n      <td>45074</td>\n      <td>Subscriber</td>\n      <td>1985</td>\n      <td>1</td>\n    </tr>\n    <tr>\n      <th>3</th>\n      <td>1553295</td>\n      <td>1553295</td>\n      <td>1780</td>\n      <td>2020-08-22 09:47:37.5210</td>\n      <td>2020-08-22 10:17:18.0020</td>\n      <td>3582</td>\n      <td>Lincoln Pl &amp; Classon Ave</td>\n      <td>40.672168</td>\n      <td>-73.960900</td>\n      <td>473</td>\n      <td>Rivington St &amp; Chrystie St</td>\n      <td>40.721101</td>\n      <td>-73.991925</td>\n      <td>42629</td>\n      <td>Subscriber</td>\n      <td>1988</td>\n      <td>2</td>\n    </tr>\n    <tr>\n      <th>4</th>\n      <td>14003</td>\n      <td>14003</td>\n      <td>1618</td>\n      <td>2020-08-01 10:19:34.6720</td>\n      <td>2020-08-01 10:46:32.7400</td>\n      <td>247</td>\n      <td>Perry St &amp; Bleecker St</td>\n      <td>40.735354</td>\n      <td>-74.004831</td>\n      <td>228</td>\n      <td>E 48 St &amp; 3 Ave</td>\n      <td>40.754601</td>\n      <td>-73.971879</td>\n      <td>41958</td>\n      <td>Subscriber</td>\n      <td>1988</td>\n      <td>1</td>\n    </tr>\n  </tbody>\n</table>\n</div>"
     },
     "metadata": {},
     "execution_count": 89
    }
   ],
   "source": [
    "df = pd.read_csv('citibike.csv')\n",
    "df.head()"
   ]
  },
  {
   "cell_type": "code",
   "execution_count": 90,
   "metadata": {},
   "outputs": [
    {
     "output_type": "execute_result",
     "data": {
      "text/plain": "0    2.0\n1    2.0\n2    2.0\n3    2.0\n4    2.0\nName: usertype, dtype: float64"
     },
     "metadata": {},
     "execution_count": 90
    }
   ],
   "source": [
    "usertype = {'Cusomer':1, 'Subscriber' :2}\n",
    "df['usertype'].map(usertype).head()"
   ]
  },
  {
   "cell_type": "code",
   "execution_count": 91,
   "metadata": {},
   "outputs": [
    {
     "output_type": "execute_result",
     "data": {
      "text/plain": "Unnamed: 0                                       27\nUnnamed: 0.1                                     27\ntripduration                                     61\nstarttime                  2020-08-01 00:00:47.6890\nstoptime                   2020-08-01 00:05:06.4510\nstart station id                                 72\nstart station name                 1 Ave & E 110 St\nstart station latitude                      40.6554\nstart station longitude                    -74.0254\nend station id                                   72\nend station name                   1 Ave & E 110 St\nend station latitude                        40.6554\nend station longitude                       -74.047\nbikeid                                        14529\nusertype                                   Customer\nbirth year                                     1885\ngender                                            0\ndtype: object"
     },
     "metadata": {},
     "execution_count": 91
    }
   ],
   "source": [
    "df.apply(min)"
   ]
  },
  {
   "cell_type": "code",
   "execution_count": 92,
   "metadata": {},
   "outputs": [
    {
     "output_type": "execute_result",
     "data": {
      "text/plain": "0     6.066667\n1    13.500000\n2    12.950000\n3    29.666667\n4    26.966667\nName: tripduration, dtype: float64"
     },
     "metadata": {},
     "execution_count": 92
    }
   ],
   "source": [
    "df['tripduration'].apply(lambda x : x/60).head()"
   ]
  },
  {
   "cell_type": "code",
   "execution_count": 93,
   "metadata": {},
   "outputs": [
    {
     "output_type": "execute_result",
     "data": {
      "text/plain": "0     6.066667\n1    13.500000\n2    12.950000\n3    29.666667\n4    26.966667\ndtype: float64"
     },
     "metadata": {},
     "execution_count": 93
    }
   ],
   "source": [
    "df.apply(lambda x: x['tripduration']/60, axis =1).head()"
   ]
  }
 ]
}