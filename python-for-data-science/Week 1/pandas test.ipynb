{
 "metadata": {
  "language_info": {
   "codemirror_mode": {
    "name": "ipython",
    "version": 3
   },
   "file_extension": ".py",
   "mimetype": "text/x-python",
   "name": "python",
   "nbconvert_exporter": "python",
   "pygments_lexer": "ipython3",
   "version": "3.8.5-final"
  },
  "orig_nbformat": 2,
  "kernelspec": {
   "name": "python_defaultSpec_1600611103257",
   "display_name": "Python 3.8.5 64-bit ('myenv': venv)"
  }
 },
 "nbformat": 4,
 "nbformat_minor": 2,
 "cells": [
  {
   "cell_type": "code",
   "execution_count": 5,
   "metadata": {},
   "outputs": [
    {
     "output_type": "execute_result",
     "data": {
      "text/plain": "' Для выполнения данного теста нужно скачать датасет 201809-citibike-tripdata.csv велобайка за сентябрь 2018. В датасете встречаются следующие столбцы:\\n● tripduration - время поездки в секундах\\n\\n● starttime - время старта поездки\\n\\n● stoptime - время окончания поездки\\n\\n● start station name - название стартовой станции\\n\\n● end station name - название конечной станции\\n\\n● start station id/ end station id - идентификатор станций\\n\\n● station latitiude/longitude - широта/долгота станций\\n\\n● bikeid - идентификатор байка\\n\\n● usertype (Customer = 24-hour pass или 3-day pass; Subscriber = годовая подписка) - тип пользователя\\n\\n● gender (0 - неизвестно; 1 - мужской; 2 - женский) - пол пользователя\\n\\n● birth year - год рождения пользователя'"
     },
     "metadata": {},
     "execution_count": 5
    }
   ],
   "source": [
    "\"\"\" Для выполнения данного теста нужно скачать датасет 201809-citibike-tripdata.csv велобайка за сентябрь 2018. В датасете встречаются следующие столбцы:\n",
    "● tripduration - время поездки в секундах\n",
    "\n",
    "● starttime - время старта поездки\n",
    "\n",
    "● stoptime - время окончания поездки\n",
    "\n",
    "● start station name - название стартовой станции\n",
    "\n",
    "● end station name - название конечной станции\n",
    "\n",
    "● start station id/ end station id - идентификатор станций\n",
    "\n",
    "● station latitiude/longitude - широта/долгота станций\n",
    "\n",
    "● bikeid - идентификатор байка\n",
    "\n",
    "● usertype (Customer = 24-hour pass или 3-day pass; Subscriber = годовая подписка) - тип пользователя\n",
    "\n",
    "● gender (0 - неизвестно; 1 - мужской; 2 - женский) - пол пользователя\n",
    "\n",
    "● birth year - год рождения пользователя\"\"\""
   ]
  },
  {
   "cell_type": "code",
   "execution_count": 1,
   "metadata": {},
   "outputs": [],
   "source": [
    "import pandas as pd"
   ]
  },
  {
   "cell_type": "code",
   "execution_count": 2,
   "metadata": {},
   "outputs": [],
   "source": [
    "df = pd.read_csv('201809-citibike-tripdata.csv')"
   ]
  },
  {
   "cell_type": "code",
   "execution_count": 3,
   "metadata": {},
   "outputs": [
    {
     "output_type": "execute_result",
     "data": {
      "text/plain": "   tripduration                 starttime                  stoptime  \\\n0          1635  2018-09-01 00:00:05.2690  2018-09-01 00:27:20.6340   \n1           132  2018-09-01 00:00:11.2810  2018-09-01 00:02:23.4810   \n2          3337  2018-09-01 00:00:20.6490  2018-09-01 00:55:58.5470   \n3           436  2018-09-01 00:00:21.7460  2018-09-01 00:07:38.5830   \n4          8457  2018-09-01 00:00:27.3150  2018-09-01 02:21:25.3080   \n\n   start station id               start station name  start station latitude  \\\n0             252.0     MacDougal St & Washington Sq               40.732264   \n1             314.0  Cadman Plaza West & Montague St               40.693830   \n2            3142.0                  1 Ave & E 62 St               40.761227   \n3             308.0          St James Pl & Oliver St               40.713079   \n4             345.0                  W 13 St & 6 Ave               40.736494   \n\n   start station longitude  end station id            end station name  \\\n0               -73.998522           366.0    Clinton Ave & Myrtle Ave   \n1               -73.990539          3242.0  Schermerhorn St & Court St   \n2               -73.960940          3384.0             Smith St & 3 St   \n3               -73.998512          3690.0         Park Pl & Church St   \n4               -73.997044           380.0            W 4 St & 7 Ave S   \n\n   end station latitude  end station longitude  bikeid    usertype  \\\n0             40.693261             -73.968896   25577  Subscriber   \n1             40.691029             -73.991834   34377  Subscriber   \n2             40.678724             -73.995991   30496  Subscriber   \n3             40.713342             -74.009355   28866  Subscriber   \n4             40.734011             -74.002939   20943    Customer   \n\n   birth year  gender  \n0        1980       1  \n1        1969       0  \n2        1975       1  \n3        1984       2  \n4        1994       1  ",
      "text/html": "<div>\n<style scoped>\n    .dataframe tbody tr th:only-of-type {\n        vertical-align: middle;\n    }\n\n    .dataframe tbody tr th {\n        vertical-align: top;\n    }\n\n    .dataframe thead th {\n        text-align: right;\n    }\n</style>\n<table border=\"1\" class=\"dataframe\">\n  <thead>\n    <tr style=\"text-align: right;\">\n      <th></th>\n      <th>tripduration</th>\n      <th>starttime</th>\n      <th>stoptime</th>\n      <th>start station id</th>\n      <th>start station name</th>\n      <th>start station latitude</th>\n      <th>start station longitude</th>\n      <th>end station id</th>\n      <th>end station name</th>\n      <th>end station latitude</th>\n      <th>end station longitude</th>\n      <th>bikeid</th>\n      <th>usertype</th>\n      <th>birth year</th>\n      <th>gender</th>\n    </tr>\n  </thead>\n  <tbody>\n    <tr>\n      <th>0</th>\n      <td>1635</td>\n      <td>2018-09-01 00:00:05.2690</td>\n      <td>2018-09-01 00:27:20.6340</td>\n      <td>252.0</td>\n      <td>MacDougal St &amp; Washington Sq</td>\n      <td>40.732264</td>\n      <td>-73.998522</td>\n      <td>366.0</td>\n      <td>Clinton Ave &amp; Myrtle Ave</td>\n      <td>40.693261</td>\n      <td>-73.968896</td>\n      <td>25577</td>\n      <td>Subscriber</td>\n      <td>1980</td>\n      <td>1</td>\n    </tr>\n    <tr>\n      <th>1</th>\n      <td>132</td>\n      <td>2018-09-01 00:00:11.2810</td>\n      <td>2018-09-01 00:02:23.4810</td>\n      <td>314.0</td>\n      <td>Cadman Plaza West &amp; Montague St</td>\n      <td>40.693830</td>\n      <td>-73.990539</td>\n      <td>3242.0</td>\n      <td>Schermerhorn St &amp; Court St</td>\n      <td>40.691029</td>\n      <td>-73.991834</td>\n      <td>34377</td>\n      <td>Subscriber</td>\n      <td>1969</td>\n      <td>0</td>\n    </tr>\n    <tr>\n      <th>2</th>\n      <td>3337</td>\n      <td>2018-09-01 00:00:20.6490</td>\n      <td>2018-09-01 00:55:58.5470</td>\n      <td>3142.0</td>\n      <td>1 Ave &amp; E 62 St</td>\n      <td>40.761227</td>\n      <td>-73.960940</td>\n      <td>3384.0</td>\n      <td>Smith St &amp; 3 St</td>\n      <td>40.678724</td>\n      <td>-73.995991</td>\n      <td>30496</td>\n      <td>Subscriber</td>\n      <td>1975</td>\n      <td>1</td>\n    </tr>\n    <tr>\n      <th>3</th>\n      <td>436</td>\n      <td>2018-09-01 00:00:21.7460</td>\n      <td>2018-09-01 00:07:38.5830</td>\n      <td>308.0</td>\n      <td>St James Pl &amp; Oliver St</td>\n      <td>40.713079</td>\n      <td>-73.998512</td>\n      <td>3690.0</td>\n      <td>Park Pl &amp; Church St</td>\n      <td>40.713342</td>\n      <td>-74.009355</td>\n      <td>28866</td>\n      <td>Subscriber</td>\n      <td>1984</td>\n      <td>2</td>\n    </tr>\n    <tr>\n      <th>4</th>\n      <td>8457</td>\n      <td>2018-09-01 00:00:27.3150</td>\n      <td>2018-09-01 02:21:25.3080</td>\n      <td>345.0</td>\n      <td>W 13 St &amp; 6 Ave</td>\n      <td>40.736494</td>\n      <td>-73.997044</td>\n      <td>380.0</td>\n      <td>W 4 St &amp; 7 Ave S</td>\n      <td>40.734011</td>\n      <td>-74.002939</td>\n      <td>20943</td>\n      <td>Customer</td>\n      <td>1994</td>\n      <td>1</td>\n    </tr>\n  </tbody>\n</table>\n</div>"
     },
     "metadata": {},
     "execution_count": 3
    }
   ],
   "source": [
    "df.head()"
   ]
  },
  {
   "cell_type": "code",
   "execution_count": 6,
   "metadata": {},
   "outputs": [
    {
     "output_type": "execute_result",
     "data": {
      "text/plain": "(1877884, 15)"
     },
     "metadata": {},
     "execution_count": 6
    }
   ],
   "source": [
    "df.shape"
   ]
  },
  {
   "cell_type": "code",
   "execution_count": 8,
   "metadata": {},
   "outputs": [
    {
     "output_type": "execute_result",
     "data": {
      "text/plain": "16.125248648656324"
     },
     "metadata": {},
     "execution_count": 8
    }
   ],
   "source": [
    "df['tripduration'].apply(lambda x: x/60).mean()"
   ]
  },
  {
   "cell_type": "code",
   "execution_count": 14,
   "metadata": {},
   "outputs": [
    {
     "output_type": "execute_result",
     "data": {
      "text/plain": "tripduration               41364\nstarttime                  41364\nstoptime                   41364\nstart station id           41364\nstart station name         41364\nstart station latitude     41364\nstart station longitude    41364\nend station id             41364\nend station name           41364\nend station latitude       41364\nend station longitude      41364\nbikeid                     41364\nusertype                   41364\nbirth year                 41364\ngender                     41364\ndtype: int64"
     },
     "metadata": {},
     "execution_count": 14
    }
   ],
   "source": [
    "df[df['start station id'] == df['end station id']].count()"
   ]
  },
  {
   "cell_type": "code",
   "execution_count": 39,
   "metadata": {},
   "outputs": [
    {
     "output_type": "execute_result",
     "data": {
      "text/plain": "bikeid\n33875    559\n33772    549\n34357    549\n33868    533\n33878    532\n        ... \n34431      1\n24763      1\n29726      1\n19420      1\n34904      1\nName: bikeid, Length: 10892, dtype: int64"
     },
     "metadata": {},
     "execution_count": 39
    }
   ],
   "source": [
    "df.groupby('bikeid')['bikeid'].count().sort_values(ascending=False)"
   ]
  },
  {
   "cell_type": "code",
   "execution_count": 41,
   "metadata": {},
   "outputs": [
    {
     "output_type": "execute_result",
     "data": {
      "text/plain": "bikeid\n17548    488022.400000\n28520    417717.000000\n17431    394605.833333\n19083    335620.142857\n18041    103932.100000\n             ...      \n22368       224.111111\n34896       217.200000\n14761       182.666667\n25612        72.000000\n32379        64.000000\nName: tripduration, Length: 10892, dtype: float64"
     },
     "metadata": {},
     "execution_count": 41
    }
   ],
   "source": [
    "df.groupby('bikeid')['tripduration'].mean().sort_values(ascending=False)"
   ]
  },
  {
   "cell_type": "code",
   "execution_count": 43,
   "metadata": {},
   "outputs": [
    {
     "output_type": "execute_result",
     "data": {
      "text/plain": "       tripduration  start station id  start station latitude  \\\ncount  1.877884e+06      1.877168e+06            1.877884e+06   \nmean   9.675149e+02      1.641635e+03            4.073710e+01   \nstd    7.893692e+03      1.454014e+03            3.115605e-02   \nmin    6.100000e+01      7.200000e+01            4.064654e+01   \n25%    3.750000e+02      3.820000e+02            4.071740e+01   \n50%    6.400000e+02      5.140000e+02            4.073705e+01   \n75%    1.129000e+03      3.263000e+03            4.075892e+01   \nmax    2.431651e+06      3.705000e+03            4.086900e+01   \n\n       start station longitude  end station id  end station latitude  \\\ncount             1.877884e+06    1.877168e+06          1.877884e+06   \nmean             -7.398237e+01    1.634439e+03          4.073674e+01   \nstd               1.971399e-02    1.453672e+03          3.097150e-02   \nmin              -7.402535e+01    7.200000e+01          4.064654e+01   \n25%              -7.399596e+01    3.820000e+02          4.071723e+01   \n50%              -7.398565e+01    5.130000e+02          4.073650e+01   \n75%              -7.397137e+01    3.263000e+03          4.075757e+01   \nmax              -7.387800e+01    3.705000e+03          4.086900e+01   \n\n       end station longitude        bikeid    birth year        gender  \ncount           1.877884e+06  1.877884e+06  1.877884e+06  1.877884e+06  \nmean           -7.398257e+01  2.652316e+04  1.979745e+03  1.154400e+00  \nstd             1.977184e-02  6.363019e+03  1.188049e+01  5.615422e-01  \nmin            -7.408364e+01  1.452900e+04  1.885000e+03  0.000000e+00  \n25%            -7.399601e+01  2.010700e+04  1.969000e+03  1.000000e+00  \n50%            -7.398602e+01  2.809200e+04  1.982000e+03  1.000000e+00  \n75%            -7.397179e+01  3.218900e+04  1.989000e+03  1.000000e+00  \nmax            -7.387800e+01  3.490700e+04  2.002000e+03  2.000000e+00  ",
      "text/html": "<div>\n<style scoped>\n    .dataframe tbody tr th:only-of-type {\n        vertical-align: middle;\n    }\n\n    .dataframe tbody tr th {\n        vertical-align: top;\n    }\n\n    .dataframe thead th {\n        text-align: right;\n    }\n</style>\n<table border=\"1\" class=\"dataframe\">\n  <thead>\n    <tr style=\"text-align: right;\">\n      <th></th>\n      <th>tripduration</th>\n      <th>start station id</th>\n      <th>start station latitude</th>\n      <th>start station longitude</th>\n      <th>end station id</th>\n      <th>end station latitude</th>\n      <th>end station longitude</th>\n      <th>bikeid</th>\n      <th>birth year</th>\n      <th>gender</th>\n    </tr>\n  </thead>\n  <tbody>\n    <tr>\n      <th>count</th>\n      <td>1.877884e+06</td>\n      <td>1.877168e+06</td>\n      <td>1.877884e+06</td>\n      <td>1.877884e+06</td>\n      <td>1.877168e+06</td>\n      <td>1.877884e+06</td>\n      <td>1.877884e+06</td>\n      <td>1.877884e+06</td>\n      <td>1.877884e+06</td>\n      <td>1.877884e+06</td>\n    </tr>\n    <tr>\n      <th>mean</th>\n      <td>9.675149e+02</td>\n      <td>1.641635e+03</td>\n      <td>4.073710e+01</td>\n      <td>-7.398237e+01</td>\n      <td>1.634439e+03</td>\n      <td>4.073674e+01</td>\n      <td>-7.398257e+01</td>\n      <td>2.652316e+04</td>\n      <td>1.979745e+03</td>\n      <td>1.154400e+00</td>\n    </tr>\n    <tr>\n      <th>std</th>\n      <td>7.893692e+03</td>\n      <td>1.454014e+03</td>\n      <td>3.115605e-02</td>\n      <td>1.971399e-02</td>\n      <td>1.453672e+03</td>\n      <td>3.097150e-02</td>\n      <td>1.977184e-02</td>\n      <td>6.363019e+03</td>\n      <td>1.188049e+01</td>\n      <td>5.615422e-01</td>\n    </tr>\n    <tr>\n      <th>min</th>\n      <td>6.100000e+01</td>\n      <td>7.200000e+01</td>\n      <td>4.064654e+01</td>\n      <td>-7.402535e+01</td>\n      <td>7.200000e+01</td>\n      <td>4.064654e+01</td>\n      <td>-7.408364e+01</td>\n      <td>1.452900e+04</td>\n      <td>1.885000e+03</td>\n      <td>0.000000e+00</td>\n    </tr>\n    <tr>\n      <th>25%</th>\n      <td>3.750000e+02</td>\n      <td>3.820000e+02</td>\n      <td>4.071740e+01</td>\n      <td>-7.399596e+01</td>\n      <td>3.820000e+02</td>\n      <td>4.071723e+01</td>\n      <td>-7.399601e+01</td>\n      <td>2.010700e+04</td>\n      <td>1.969000e+03</td>\n      <td>1.000000e+00</td>\n    </tr>\n    <tr>\n      <th>50%</th>\n      <td>6.400000e+02</td>\n      <td>5.140000e+02</td>\n      <td>4.073705e+01</td>\n      <td>-7.398565e+01</td>\n      <td>5.130000e+02</td>\n      <td>4.073650e+01</td>\n      <td>-7.398602e+01</td>\n      <td>2.809200e+04</td>\n      <td>1.982000e+03</td>\n      <td>1.000000e+00</td>\n    </tr>\n    <tr>\n      <th>75%</th>\n      <td>1.129000e+03</td>\n      <td>3.263000e+03</td>\n      <td>4.075892e+01</td>\n      <td>-7.397137e+01</td>\n      <td>3.263000e+03</td>\n      <td>4.075757e+01</td>\n      <td>-7.397179e+01</td>\n      <td>3.218900e+04</td>\n      <td>1.989000e+03</td>\n      <td>1.000000e+00</td>\n    </tr>\n    <tr>\n      <th>max</th>\n      <td>2.431651e+06</td>\n      <td>3.705000e+03</td>\n      <td>4.086900e+01</td>\n      <td>-7.387800e+01</td>\n      <td>3.705000e+03</td>\n      <td>4.086900e+01</td>\n      <td>-7.387800e+01</td>\n      <td>3.490700e+04</td>\n      <td>2.002000e+03</td>\n      <td>2.000000e+00</td>\n    </tr>\n  </tbody>\n</table>\n</div>"
     },
     "metadata": {},
     "execution_count": 43
    }
   ],
   "source": [
    "df.describe()"
   ]
  },
  {
   "cell_type": "code",
   "execution_count": 47,
   "metadata": {},
   "outputs": [
    {
     "output_type": "execute_result",
     "data": {
      "text/plain": "tripduration               716\nstarttime                  716\nstoptime                   716\nstart station id             0\nstart station name           0\nstart station latitude     716\nstart station longitude    716\nend station id               0\nend station name             0\nend station latitude       716\nend station longitude      716\nbikeid                     716\nusertype                   716\nbirth year                 716\ngender                     716\ndtype: int64"
     },
     "metadata": {},
     "execution_count": 47
    }
   ],
   "source": [
    "df[df['start station id'].isnull()].count()"
   ]
  },
  {
   "cell_type": "code",
   "execution_count": 52,
   "metadata": {},
   "outputs": [
    {
     "output_type": "execute_result",
     "data": {
      "text/plain": "usertype\nCustomer      33.415379\nSubscriber    13.332348\nName: tripduration, dtype: float64"
     },
     "metadata": {},
     "execution_count": 52
    }
   ],
   "source": [
    "df.groupby('usertype')['tripduration'].mean().apply(lambda x: x/60)"
   ]
  },
  {
   "cell_type": "code",
   "execution_count": 57,
   "metadata": {},
   "outputs": [],
   "source": [
    "from geopy import distance"
   ]
  },
  {
   "cell_type": "code",
   "execution_count": 59,
   "metadata": {},
   "outputs": [
    {
     "output_type": "execute_result",
     "data": {
      "text/plain": "1.85"
     },
     "metadata": {},
     "execution_count": 59
    }
   ],
   "source": [
    "round(df[df['start station id'] != df['end station id']].apply(lambda df: distance.distance(\n",
    "              (df['start station latitude'],df['start station longitude']),\n",
    "              (df['end station latitude'],df['end station longitude'])\n",
    "              ).km,\n",
    "              axis=1).mean(),2)"
   ]
  },
  {
   "cell_type": "code",
   "execution_count": 60,
   "metadata": {},
   "outputs": [],
   "source": [
    "from datetime import datetime, time\n",
    "\n",
    "time_from = time(18, 00)\n",
    "time_till = time(20, 00)\n",
    "\n",
    "df['starttime_time'] = df.apply(lambda x: \n",
    "          datetime.strptime(x['starttime'],'%Y-%m-%d %H:%M:%S.%f').time()\n",
    "          ,axis=1)\n",
    "\n",
    "df_start_station = df[(df['starttime_time']>=time_from) & (df['starttime_time']<=time_till)]"
   ]
  },
  {
   "cell_type": "code",
   "execution_count": 64,
   "metadata": {},
   "outputs": [
    {
     "output_type": "execute_result",
     "data": {
      "text/plain": "                  count\nstart station id       \n519.0              2823\n402.0              2368\n426.0              2217\n459.0              2103\n477.0              1994",
      "text/html": "<div>\n<style scoped>\n    .dataframe tbody tr th:only-of-type {\n        vertical-align: middle;\n    }\n\n    .dataframe tbody tr th {\n        vertical-align: top;\n    }\n\n    .dataframe thead th {\n        text-align: right;\n    }\n</style>\n<table border=\"1\" class=\"dataframe\">\n  <thead>\n    <tr style=\"text-align: right;\">\n      <th></th>\n      <th>count</th>\n    </tr>\n    <tr>\n      <th>start station id</th>\n      <th></th>\n    </tr>\n  </thead>\n  <tbody>\n    <tr>\n      <th>519.0</th>\n      <td>2823</td>\n    </tr>\n    <tr>\n      <th>402.0</th>\n      <td>2368</td>\n    </tr>\n    <tr>\n      <th>426.0</th>\n      <td>2217</td>\n    </tr>\n    <tr>\n      <th>459.0</th>\n      <td>2103</td>\n    </tr>\n    <tr>\n      <th>477.0</th>\n      <td>1994</td>\n    </tr>\n  </tbody>\n</table>\n</div>"
     },
     "metadata": {},
     "execution_count": 64
    }
   ],
   "source": [
    "df_start_station.groupby(['start station id'])['start station id'].agg(['count']).sort_values(by=['count'], ascending=False).head()"
   ]
  },
  {
   "cell_type": "code",
   "execution_count": 68,
   "metadata": {},
   "outputs": [],
   "source": [
    "from datetime import datetime, time\n",
    "\n",
    "time_from = time(6, 00)\n",
    "time_till = time(10, 00)\n",
    "\n",
    "df['endtime_time'] = df.apply(lambda x: \n",
    "          datetime.strptime(x['starttime'],'%Y-%m-%d %H:%M:%S.%f').time()\n",
    "          ,axis=1)\n",
    "\n",
    "df_end_station = df[(df['endtime_time']>=time_from) & (df['endtime_time']<=time_till)]\n",
    "#values = [369, 3106, 3116, 3140]\n",
    "#df_end_station[df_end_station['end station id'].isin(values)]['end station id'].unique()"
   ]
  },
  {
   "cell_type": "code",
   "execution_count": 69,
   "metadata": {},
   "outputs": [
    {
     "output_type": "execute_result",
     "data": {
      "text/plain": "         tripduration                 starttime                  stoptime  \\\n2214              355  2018-09-01 06:00:29.5550  2018-09-01 06:06:25.4180   \n2215             1463  2018-09-01 06:00:42.3500  2018-09-01 06:25:05.8200   \n2216              639  2018-09-01 06:01:12.8740  2018-09-01 06:11:52.6590   \n2217              446  2018-09-01 06:01:14.0230  2018-09-01 06:08:40.9660   \n2218              301  2018-09-01 06:02:20.2730  2018-09-01 06:07:21.4800   \n...               ...                       ...                       ...   \n1819404           352  2018-09-30 09:59:56.3810  2018-09-30 10:05:49.2370   \n1819405           174  2018-09-30 09:59:57.5580  2018-09-30 10:02:51.9600   \n1819406           368  2018-09-30 09:59:59.0610  2018-09-30 10:06:07.5900   \n1819417           549  2018-09-30 09:59:54.8530  2018-09-30 10:09:04.0240   \n1877881          1442  2018-09-30 08:10:03.1790  2018-09-30 08:34:05.3870   \n\n         start station id         start station name  start station latitude  \\\n2214                478.0           11 Ave & W 41 St               40.760301   \n2215                481.0       S 3 St & Bedford Ave               40.712605   \n2216                492.0            W 33 St & 7 Ave               40.750200   \n2217               3158.0         W 63 St & Broadway               40.771639   \n2218               3360.0    Amsterdam Ave & W 79 St               40.782939   \n...                   ...                        ...                     ...   \n1819404            3567.0             11 St & 35 Ave               40.762744   \n1819405             391.0        Clark St & Henry St               40.697601   \n1819406             518.0            E 39 St & 2 Ave               40.747804   \n1819417             502.0        Henry St & Grand St               40.714215   \n1877881            3601.0  Sterling St & Bedford Ave               40.662706   \n\n         start station longitude  end station id            end station name  \\\n2214                  -73.998842          2021.0             W 45 St & 8 Ave   \n2215                  -73.962644           168.0             W 18 St & 6 Ave   \n2216                  -73.990931          3443.0             W 52 St & 6 Ave   \n2217                  -73.982614           492.0             W 33 St & 7 Ave   \n2218                  -73.978652           422.0            W 59 St & 10 Ave   \n...                          ...             ...                         ...   \n1819404               -73.939114          3130.0  21 St & Queens Plaza North   \n1819405               -73.993446           157.0     Henry St & Atlantic Ave   \n1819406               -73.973442           540.0     Lexington Ave & E 29 St   \n1819417               -73.981346           432.0           E 7 St & Avenue A   \n1877881               -73.956912           471.0     Grand St & Havemeyer St   \n\n         end station latitude  end station longitude  bikeid    usertype  \\\n2214                40.759291             -73.988597   25619  Subscriber   \n2215                40.739713             -73.994564   34029  Subscriber   \n2216                40.761330             -73.979820   25487  Subscriber   \n2217                40.750200             -73.990931   18411  Subscriber   \n2218                40.770513             -73.988038   27369  Subscriber   \n...                       ...                    ...     ...         ...   \n1819404             40.753260             -73.943358   33631  Subscriber   \n1819405             40.690893             -73.996123   16506  Subscriber   \n1819406             40.743116             -73.982154   21249  Subscriber   \n1819417             40.726218             -73.983799   33817  Subscriber   \n1877881             40.712868             -73.956981   28646  Subscriber   \n\n         birth year  gender   starttime_time     endtime_time  \n2214           1971       1  06:00:29.555000  06:00:29.555000  \n2215           1993       1  06:00:42.350000  06:00:42.350000  \n2216           1975       1  06:01:12.874000  06:01:12.874000  \n2217           1980       1  06:01:14.023000  06:01:14.023000  \n2218           1971       1  06:02:20.273000  06:02:20.273000  \n...             ...     ...              ...              ...  \n1819404        1989       2  09:59:56.381000  09:59:56.381000  \n1819405        1982       1  09:59:57.558000  09:59:57.558000  \n1819406        1982       2  09:59:59.061000  09:59:59.061000  \n1819417        1967       1  09:59:54.853000  09:59:54.853000  \n1877881        1981       1  08:10:03.179000  08:10:03.179000  \n\n[358011 rows x 17 columns]",
      "text/html": "<div>\n<style scoped>\n    .dataframe tbody tr th:only-of-type {\n        vertical-align: middle;\n    }\n\n    .dataframe tbody tr th {\n        vertical-align: top;\n    }\n\n    .dataframe thead th {\n        text-align: right;\n    }\n</style>\n<table border=\"1\" class=\"dataframe\">\n  <thead>\n    <tr style=\"text-align: right;\">\n      <th></th>\n      <th>tripduration</th>\n      <th>starttime</th>\n      <th>stoptime</th>\n      <th>start station id</th>\n      <th>start station name</th>\n      <th>start station latitude</th>\n      <th>start station longitude</th>\n      <th>end station id</th>\n      <th>end station name</th>\n      <th>end station latitude</th>\n      <th>end station longitude</th>\n      <th>bikeid</th>\n      <th>usertype</th>\n      <th>birth year</th>\n      <th>gender</th>\n      <th>starttime_time</th>\n      <th>endtime_time</th>\n    </tr>\n  </thead>\n  <tbody>\n    <tr>\n      <th>2214</th>\n      <td>355</td>\n      <td>2018-09-01 06:00:29.5550</td>\n      <td>2018-09-01 06:06:25.4180</td>\n      <td>478.0</td>\n      <td>11 Ave &amp; W 41 St</td>\n      <td>40.760301</td>\n      <td>-73.998842</td>\n      <td>2021.0</td>\n      <td>W 45 St &amp; 8 Ave</td>\n      <td>40.759291</td>\n      <td>-73.988597</td>\n      <td>25619</td>\n      <td>Subscriber</td>\n      <td>1971</td>\n      <td>1</td>\n      <td>06:00:29.555000</td>\n      <td>06:00:29.555000</td>\n    </tr>\n    <tr>\n      <th>2215</th>\n      <td>1463</td>\n      <td>2018-09-01 06:00:42.3500</td>\n      <td>2018-09-01 06:25:05.8200</td>\n      <td>481.0</td>\n      <td>S 3 St &amp; Bedford Ave</td>\n      <td>40.712605</td>\n      <td>-73.962644</td>\n      <td>168.0</td>\n      <td>W 18 St &amp; 6 Ave</td>\n      <td>40.739713</td>\n      <td>-73.994564</td>\n      <td>34029</td>\n      <td>Subscriber</td>\n      <td>1993</td>\n      <td>1</td>\n      <td>06:00:42.350000</td>\n      <td>06:00:42.350000</td>\n    </tr>\n    <tr>\n      <th>2216</th>\n      <td>639</td>\n      <td>2018-09-01 06:01:12.8740</td>\n      <td>2018-09-01 06:11:52.6590</td>\n      <td>492.0</td>\n      <td>W 33 St &amp; 7 Ave</td>\n      <td>40.750200</td>\n      <td>-73.990931</td>\n      <td>3443.0</td>\n      <td>W 52 St &amp; 6 Ave</td>\n      <td>40.761330</td>\n      <td>-73.979820</td>\n      <td>25487</td>\n      <td>Subscriber</td>\n      <td>1975</td>\n      <td>1</td>\n      <td>06:01:12.874000</td>\n      <td>06:01:12.874000</td>\n    </tr>\n    <tr>\n      <th>2217</th>\n      <td>446</td>\n      <td>2018-09-01 06:01:14.0230</td>\n      <td>2018-09-01 06:08:40.9660</td>\n      <td>3158.0</td>\n      <td>W 63 St &amp; Broadway</td>\n      <td>40.771639</td>\n      <td>-73.982614</td>\n      <td>492.0</td>\n      <td>W 33 St &amp; 7 Ave</td>\n      <td>40.750200</td>\n      <td>-73.990931</td>\n      <td>18411</td>\n      <td>Subscriber</td>\n      <td>1980</td>\n      <td>1</td>\n      <td>06:01:14.023000</td>\n      <td>06:01:14.023000</td>\n    </tr>\n    <tr>\n      <th>2218</th>\n      <td>301</td>\n      <td>2018-09-01 06:02:20.2730</td>\n      <td>2018-09-01 06:07:21.4800</td>\n      <td>3360.0</td>\n      <td>Amsterdam Ave &amp; W 79 St</td>\n      <td>40.782939</td>\n      <td>-73.978652</td>\n      <td>422.0</td>\n      <td>W 59 St &amp; 10 Ave</td>\n      <td>40.770513</td>\n      <td>-73.988038</td>\n      <td>27369</td>\n      <td>Subscriber</td>\n      <td>1971</td>\n      <td>1</td>\n      <td>06:02:20.273000</td>\n      <td>06:02:20.273000</td>\n    </tr>\n    <tr>\n      <th>...</th>\n      <td>...</td>\n      <td>...</td>\n      <td>...</td>\n      <td>...</td>\n      <td>...</td>\n      <td>...</td>\n      <td>...</td>\n      <td>...</td>\n      <td>...</td>\n      <td>...</td>\n      <td>...</td>\n      <td>...</td>\n      <td>...</td>\n      <td>...</td>\n      <td>...</td>\n      <td>...</td>\n      <td>...</td>\n    </tr>\n    <tr>\n      <th>1819404</th>\n      <td>352</td>\n      <td>2018-09-30 09:59:56.3810</td>\n      <td>2018-09-30 10:05:49.2370</td>\n      <td>3567.0</td>\n      <td>11 St &amp; 35 Ave</td>\n      <td>40.762744</td>\n      <td>-73.939114</td>\n      <td>3130.0</td>\n      <td>21 St &amp; Queens Plaza North</td>\n      <td>40.753260</td>\n      <td>-73.943358</td>\n      <td>33631</td>\n      <td>Subscriber</td>\n      <td>1989</td>\n      <td>2</td>\n      <td>09:59:56.381000</td>\n      <td>09:59:56.381000</td>\n    </tr>\n    <tr>\n      <th>1819405</th>\n      <td>174</td>\n      <td>2018-09-30 09:59:57.5580</td>\n      <td>2018-09-30 10:02:51.9600</td>\n      <td>391.0</td>\n      <td>Clark St &amp; Henry St</td>\n      <td>40.697601</td>\n      <td>-73.993446</td>\n      <td>157.0</td>\n      <td>Henry St &amp; Atlantic Ave</td>\n      <td>40.690893</td>\n      <td>-73.996123</td>\n      <td>16506</td>\n      <td>Subscriber</td>\n      <td>1982</td>\n      <td>1</td>\n      <td>09:59:57.558000</td>\n      <td>09:59:57.558000</td>\n    </tr>\n    <tr>\n      <th>1819406</th>\n      <td>368</td>\n      <td>2018-09-30 09:59:59.0610</td>\n      <td>2018-09-30 10:06:07.5900</td>\n      <td>518.0</td>\n      <td>E 39 St &amp; 2 Ave</td>\n      <td>40.747804</td>\n      <td>-73.973442</td>\n      <td>540.0</td>\n      <td>Lexington Ave &amp; E 29 St</td>\n      <td>40.743116</td>\n      <td>-73.982154</td>\n      <td>21249</td>\n      <td>Subscriber</td>\n      <td>1982</td>\n      <td>2</td>\n      <td>09:59:59.061000</td>\n      <td>09:59:59.061000</td>\n    </tr>\n    <tr>\n      <th>1819417</th>\n      <td>549</td>\n      <td>2018-09-30 09:59:54.8530</td>\n      <td>2018-09-30 10:09:04.0240</td>\n      <td>502.0</td>\n      <td>Henry St &amp; Grand St</td>\n      <td>40.714215</td>\n      <td>-73.981346</td>\n      <td>432.0</td>\n      <td>E 7 St &amp; Avenue A</td>\n      <td>40.726218</td>\n      <td>-73.983799</td>\n      <td>33817</td>\n      <td>Subscriber</td>\n      <td>1967</td>\n      <td>1</td>\n      <td>09:59:54.853000</td>\n      <td>09:59:54.853000</td>\n    </tr>\n    <tr>\n      <th>1877881</th>\n      <td>1442</td>\n      <td>2018-09-30 08:10:03.1790</td>\n      <td>2018-09-30 08:34:05.3870</td>\n      <td>3601.0</td>\n      <td>Sterling St &amp; Bedford Ave</td>\n      <td>40.662706</td>\n      <td>-73.956912</td>\n      <td>471.0</td>\n      <td>Grand St &amp; Havemeyer St</td>\n      <td>40.712868</td>\n      <td>-73.956981</td>\n      <td>28646</td>\n      <td>Subscriber</td>\n      <td>1981</td>\n      <td>1</td>\n      <td>08:10:03.179000</td>\n      <td>08:10:03.179000</td>\n    </tr>\n  </tbody>\n</table>\n<p>358011 rows × 17 columns</p>\n</div>"
     },
     "metadata": {},
     "execution_count": 69
    }
   ],
   "source": [
    "df_end_station"
   ]
  },
  {
   "cell_type": "code",
   "execution_count": null,
   "metadata": {},
   "outputs": [],
   "source": []
  }
 ]
}